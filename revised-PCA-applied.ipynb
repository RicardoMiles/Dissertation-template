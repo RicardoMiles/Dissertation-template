{
  "cells": [
    {
      "cell_type": "markdown",
      "metadata": {
        "id": "view-in-github",
        "colab_type": "text"
      },
      "source": [
        "<a href=\"https://colab.research.google.com/github/RicardoMiles/Dissertation-template/blob/main/revised-PCA-applied.ipynb\" target=\"_parent\"><img src=\"https://colab.research.google.com/assets/colab-badge.svg\" alt=\"Open In Colab\"/></a>"
      ]
    },
    {
      "cell_type": "code",
      "source": [
        "from google.colab import drive\n",
        "drive.mount('/content/drive')\n",
        "import os\n",
        "os.chdir('/content/drive/MyDrive/Colab Notebooks/SummerProject/src')\n",
        "!pwd"
      ],
      "metadata": {
        "colab": {
          "base_uri": "https://localhost:8080/"
        },
        "id": "LUVz_c7OcNW6",
        "outputId": "ae73b98e-33cf-4edb-a50e-61dbfcb69e0e"
      },
      "id": "LUVz_c7OcNW6",
      "execution_count": 19,
      "outputs": [
        {
          "output_type": "stream",
          "name": "stdout",
          "text": [
            "Drive already mounted at /content/drive; to attempt to forcibly remount, call drive.mount(\"/content/drive\", force_remount=True).\n",
            "/content/drive/MyDrive/Colab Notebooks/SummerProject/src\n"
          ]
        }
      ]
    },
    {
      "cell_type": "code",
      "execution_count": 20,
      "id": "ade9228b-0fee-4c5f-8c9b-c698818ebe03",
      "metadata": {
        "id": "ade9228b-0fee-4c5f-8c9b-c698818ebe03"
      },
      "outputs": [],
      "source": [
        "import pandas as pd\n",
        "import numpy as np\n",
        "import os\n",
        "from sklearn.preprocessing import LabelEncoder\n",
        "from sklearn.model_selection import train_test_split"
      ]
    },
    {
      "cell_type": "code",
      "execution_count": 21,
      "id": "4b971e6f-7a88-496a-b214-a82fc78b1ce8",
      "metadata": {
        "id": "4b971e6f-7a88-496a-b214-a82fc78b1ce8"
      },
      "outputs": [],
      "source": [
        "# 定义包含CSV文件的文件夹路径\n",
        "current_dir = os.getcwd()\n",
        "root_dir = os.path.dirname(current_dir)\n",
        "data_dir = os.path.join(root_dir, 'Data')\n",
        "left_data = os.path.join(data_dir,'left')\n",
        "right_data = os.path.join(data_dir,'right')\n",
        "\n",
        "folder_path = left_data\n",
        "\n",
        "# 获取left文件夹中所有CSV文件的列表\n",
        "csv_files_left = [os.path.join(left_data, file) for file in os.listdir(left_data) if file.endswith('.csv')]\n",
        "# 获取right文件夹中所有CSV文件的列表\n",
        "csv_files_right = [os.path.join(right_data, file) for file in os.listdir(right_data) if file.endswith('.csv')]\n",
        "\n",
        "# 初始化存储所有特征和标签的列表\n",
        "all_features = []\n",
        "all_labels = []\n",
        "\n",
        "# 初始化CSV文件计数器\n",
        "csv_files_count = 0"
      ]
    },
    {
      "cell_type": "code",
      "execution_count": 22,
      "id": "6bbf1e59-20da-42b2-b5a0-60fbd50b7fcb",
      "metadata": {
        "id": "6bbf1e59-20da-42b2-b5a0-60fbd50b7fcb",
        "outputId": "1dc7a964-5cab-42eb-9e7a-7ce4953543e5",
        "colab": {
          "base_uri": "https://localhost:8080/"
        }
      },
      "outputs": [
        {
          "output_type": "stream",
          "name": "stdout",
          "text": [
            "Number of left files: 26\n",
            "Number of right files: 26\n"
          ]
        }
      ],
      "source": [
        "print(f\"Number of left files: {len(csv_files_left)}\")\n",
        "print(f\"Number of right files: {len(csv_files_right)}\")"
      ]
    },
    {
      "cell_type": "code",
      "execution_count": 23,
      "id": "deecf9c4-f615-4993-988e-cd3b6b6f7603",
      "metadata": {
        "id": "deecf9c4-f615-4993-988e-cd3b6b6f7603"
      },
      "outputs": [],
      "source": [
        "# 定义特征提取函数\n",
        "def extract_features(group):\n",
        "    features = []\n",
        "    # 时间域特征\n",
        "    for col in group.columns[2:]:\n",
        "        data = group[col].values\n",
        "        features.append(data.mean())\n",
        "        features.append(data.std())\n",
        "        features.append(stats.skew(data))\n",
        "        features.append(stats.kurtosis(data))\n",
        "    return features"
      ]
    },
    {
      "cell_type": "code",
      "execution_count": 24,
      "id": "f5af3cb1-2246-4d7e-bcd3-a3fbff07f4f6",
      "metadata": {
        "id": "f5af3cb1-2246-4d7e-bcd3-a3fbff07f4f6",
        "outputId": "9d73c25b-f2c8-4480-b8e8-3c97de552ec1",
        "colab": {
          "base_uri": "https://localhost:8080/"
        }
      },
      "outputs": [
        {
          "output_type": "stream",
          "name": "stdout",
          "text": [
            "Features array shape: (7220, 81, 101)\n",
            "Labels array shape: (7220,)\n",
            "Current processing time: 2024-11-21 16:08:28\n",
            "Total CSV files processed: 52\n"
          ]
        }
      ],
      "source": [
        "import pandas as pd\n",
        "import numpy as np\n",
        "from datetime import datetime  # 导入datetime模块来获取当前时间\n",
        "\n",
        "# 初始化CSV文件计数器\n",
        "csv_files_count = 0\n",
        "all_features = []  # 确保这个列表在代码的其他地方被初始化\n",
        "all_labels = []  # 确保这个列表在代码的其他地方被初始化\n",
        "\n",
        "# 处理left文件夹中的CSV文件\n",
        "for file_name in csv_files_left:\n",
        "    df = pd.read_csv(file_name)\n",
        "    csv_files_count += 1  # 增加文件计数\n",
        "    # 将数据按照epoch分组\n",
        "    grouped = df.groupby(df.columns[1])  # 第二列是epoch分组的列\n",
        "    for name, group in grouped:\n",
        "        # 过滤掉time小于0的数据\n",
        "        group = group[group[df.columns[0]] >= 0]  # 假设time列是第一列\n",
        "        if len(group) == 81:  # 确保过滤后有81条数据\n",
        "            # 提取特征\n",
        "            features = group.iloc[:, 2:].values  # 第三列及以后是EEG通道信号\n",
        "            # features = extract_features(group)\n",
        "            all_features.append(features)\n",
        "            # 获取标签\n",
        "            all_labels.append('left')\n",
        "\n",
        "# 处理right文件夹中的CSV文件\n",
        "for file_name in csv_files_right:\n",
        "    df_right = pd.read_csv(file_name)\n",
        "    csv_files_count += 1  # 增加文件计数\n",
        "    # 将数据按照epoch分组\n",
        "    grouped_right = df_right.groupby(df_right.columns[1])  # 第二列是epoch分组的列\n",
        "    for name, group in grouped_right:\n",
        "        # 过滤掉time小于0的数据\n",
        "        group = group[group[df_right.columns[0]] >= 0]  # 假设time列是第一列\n",
        "        if len(group) == 81:  # 确保过滤后有81条数据\n",
        "            # 提取特征\n",
        "            features = group.iloc[:, 2:].values  # 第三列及以后是EEG通道信号\n",
        "            # features = extract_features(group)\n",
        "            all_features.append(features)\n",
        "            # 获取标签\n",
        "            all_labels.append('right')\n",
        "\n",
        "# 将特征和标签转换为NumPy数组\n",
        "features_array = np.array(all_features)\n",
        "labels_array = np.array(all_labels)\n",
        "\n",
        "# 打印特征数组的形状\n",
        "print(f\"Features array shape: {features_array.shape}\")\n",
        "\n",
        "# 打印标签数组的形状\n",
        "print(f\"Labels array shape: {labels_array.shape}\")\n",
        "\n",
        "# 打印当前处理的时间\n",
        "current_time = datetime.now().strftime(\"%Y-%m-%d %H:%M:%S\")\n",
        "print(f\"Current processing time: {current_time}\")\n",
        "\n",
        "# 打印处理的CSV文件数量\n",
        "print(f\"Total CSV files processed: {csv_files_count}\")"
      ]
    },
    {
      "cell_type": "code",
      "execution_count": 25,
      "id": "3892f398-a0d3-4fc4-8676-63873b3deebf",
      "metadata": {
        "id": "3892f398-a0d3-4fc4-8676-63873b3deebf"
      },
      "outputs": [],
      "source": [
        "# 划分数据集\n",
        "X_train, X_test, y_train, y_test = train_test_split(features_array, labels_array, test_size=0.2, random_state=42)"
      ]
    },
    {
      "cell_type": "code",
      "execution_count": 26,
      "id": "9b33b25b-f398-414e-a538-84238784db79",
      "metadata": {
        "id": "9b33b25b-f398-414e-a538-84238784db79"
      },
      "outputs": [],
      "source": [
        "from sklearn.model_selection import train_test_split\n",
        "from sklearn.preprocessing import LabelEncoder\n",
        "\n",
        "# 初始化标签编码器\n",
        "label_encoder = LabelEncoder()\n",
        "\n",
        "# 将训练集和测试集的标签转换为数值\n",
        "y_train_encoded = label_encoder.fit_transform(y_train)\n",
        "y_test_encoded = label_encoder.transform(y_test)\n",
        "\n",
        "# 确保转换后的标签是正确的数据类型\n",
        "y_train_encoded = y_train_encoded.astype('int32')\n",
        "y_test_encoded = y_test_encoded.astype('int32')"
      ]
    },
    {
      "cell_type": "code",
      "source": [
        "from sklearn.decomposition import PCA\n",
        "\n",
        "# 设置主成分数量为 25（或选择能达到 90% 累计方差的数量）\n",
        "pca = PCA(n_components=25)\n",
        "X_train_pca = pca.fit_transform(X_train_flat).reshape(X_train.shape[0], X_train.shape[1], -1)\n",
        "X_test_pca = pca.transform(X_test_flat).reshape(X_test.shape[0], X_test.shape[1], -1)\n",
        "\n",
        "print(f\"Reduced PCA features shape: {X_train_pca.shape}\")\n"
      ],
      "metadata": {
        "colab": {
          "base_uri": "https://localhost:8080/"
        },
        "id": "N5wn2uRng_BG",
        "outputId": "a66cb882-e5f2-4fcb-fff9-5b7e29714c90"
      },
      "id": "N5wn2uRng_BG",
      "execution_count": 47,
      "outputs": [
        {
          "output_type": "stream",
          "name": "stdout",
          "text": [
            "Reduced PCA features shape: (5776, 81, 25)\n"
          ]
        }
      ]
    },
    {
      "cell_type": "code",
      "execution_count": 48,
      "id": "d3586a60-7ecb-4902-8d71-0e3c8c52a18f",
      "metadata": {
        "id": "d3586a60-7ecb-4902-8d71-0e3c8c52a18f",
        "outputId": "60f8dda0-2005-4c60-f3e9-d498420ee3a7",
        "colab": {
          "base_uri": "https://localhost:8080/",
          "height": 1000
        }
      },
      "outputs": [
        {
          "output_type": "stream",
          "name": "stdout",
          "text": [
            "X_train shape: (5776, 81, 101), y_train shape: (5776,)\n",
            "X_test shape: (1444, 81, 101), y_test shape: (1444,)\n"
          ]
        },
        {
          "output_type": "stream",
          "name": "stderr",
          "text": [
            "/usr/local/lib/python3.10/dist-packages/keras/src/layers/core/input_layer.py:26: UserWarning: Argument `input_shape` is deprecated. Use `shape` instead.\n",
            "  warnings.warn(\n"
          ]
        },
        {
          "output_type": "stream",
          "name": "stdout",
          "text": [
            "Epoch 1/35\n",
            "\u001b[1m91/91\u001b[0m \u001b[32m━━━━━━━━━━━━━━━━━━━━\u001b[0m\u001b[37m\u001b[0m \u001b[1m3s\u001b[0m 16ms/step - accuracy: 0.5008 - loss: 0.7076 - val_accuracy: 0.5242 - val_loss: 0.6918\n",
            "Epoch 2/35\n",
            "\u001b[1m91/91\u001b[0m \u001b[32m━━━━━━━━━━━━━━━━━━━━\u001b[0m\u001b[37m\u001b[0m \u001b[1m1s\u001b[0m 12ms/step - accuracy: 0.5357 - loss: 0.6935 - val_accuracy: 0.5312 - val_loss: 0.6896\n",
            "Epoch 3/35\n",
            "\u001b[1m91/91\u001b[0m \u001b[32m━━━━━━━━━━━━━━━━━━━━\u001b[0m\u001b[37m\u001b[0m \u001b[1m1s\u001b[0m 12ms/step - accuracy: 0.5407 - loss: 0.6917 - val_accuracy: 0.5325 - val_loss: 0.6884\n",
            "Epoch 4/35\n",
            "\u001b[1m91/91\u001b[0m \u001b[32m━━━━━━━━━━━━━━━━━━━━\u001b[0m\u001b[37m\u001b[0m \u001b[1m1s\u001b[0m 12ms/step - accuracy: 0.5457 - loss: 0.6855 - val_accuracy: 0.5319 - val_loss: 0.6878\n",
            "Epoch 5/35\n",
            "\u001b[1m91/91\u001b[0m \u001b[32m━━━━━━━━━━━━━━━━━━━━\u001b[0m\u001b[37m\u001b[0m \u001b[1m1s\u001b[0m 12ms/step - accuracy: 0.5637 - loss: 0.6810 - val_accuracy: 0.5381 - val_loss: 0.6922\n",
            "Epoch 6/35\n",
            "\u001b[1m91/91\u001b[0m \u001b[32m━━━━━━━━━━━━━━━━━━━━\u001b[0m\u001b[37m\u001b[0m \u001b[1m1s\u001b[0m 12ms/step - accuracy: 0.5812 - loss: 0.6710 - val_accuracy: 0.5319 - val_loss: 0.7019\n",
            "Epoch 7/35\n",
            "\u001b[1m91/91\u001b[0m \u001b[32m━━━━━━━━━━━━━━━━━━━━\u001b[0m\u001b[37m\u001b[0m \u001b[1m1s\u001b[0m 12ms/step - accuracy: 0.6050 - loss: 0.6653 - val_accuracy: 0.5367 - val_loss: 0.7009\n",
            "Epoch 8/35\n",
            "\u001b[1m91/91\u001b[0m \u001b[32m━━━━━━━━━━━━━━━━━━━━\u001b[0m\u001b[37m\u001b[0m \u001b[1m1s\u001b[0m 12ms/step - accuracy: 0.6215 - loss: 0.6545 - val_accuracy: 0.5249 - val_loss: 0.7097\n",
            "Epoch 9/35\n",
            "\u001b[1m91/91\u001b[0m \u001b[32m━━━━━━━━━━━━━━━━━━━━\u001b[0m\u001b[37m\u001b[0m \u001b[1m1s\u001b[0m 12ms/step - accuracy: 0.6208 - loss: 0.6496 - val_accuracy: 0.5173 - val_loss: 0.7201\n",
            "Epoch 10/35\n",
            "\u001b[1m91/91\u001b[0m \u001b[32m━━━━━━━━━━━━━━━━━━━━\u001b[0m\u001b[37m\u001b[0m \u001b[1m1s\u001b[0m 12ms/step - accuracy: 0.6353 - loss: 0.6385 - val_accuracy: 0.5319 - val_loss: 0.7264\n",
            "Epoch 11/35\n",
            "\u001b[1m91/91\u001b[0m \u001b[32m━━━━━━━━━━━━━━━━━━━━\u001b[0m\u001b[37m\u001b[0m \u001b[1m1s\u001b[0m 12ms/step - accuracy: 0.6612 - loss: 0.6213 - val_accuracy: 0.5173 - val_loss: 0.7524\n",
            "Epoch 12/35\n",
            "\u001b[1m91/91\u001b[0m \u001b[32m━━━━━━━━━━━━━━━━━━━━\u001b[0m\u001b[37m\u001b[0m \u001b[1m1s\u001b[0m 12ms/step - accuracy: 0.6445 - loss: 0.6302 - val_accuracy: 0.5312 - val_loss: 0.7468\n",
            "Epoch 13/35\n",
            "\u001b[1m91/91\u001b[0m \u001b[32m━━━━━━━━━━━━━━━━━━━━\u001b[0m\u001b[37m\u001b[0m \u001b[1m1s\u001b[0m 12ms/step - accuracy: 0.6663 - loss: 0.6123 - val_accuracy: 0.5325 - val_loss: 0.7675\n",
            "Epoch 14/35\n",
            "\u001b[1m91/91\u001b[0m \u001b[32m━━━━━━━━━━━━━━━━━━━━\u001b[0m\u001b[37m\u001b[0m \u001b[1m1s\u001b[0m 12ms/step - accuracy: 0.6745 - loss: 0.5999 - val_accuracy: 0.5270 - val_loss: 0.7431\n",
            "Epoch 14: early stopping\n",
            "Restoring model weights from the end of the best epoch: 4.\n",
            "Test Loss: 0.688874363899231\n",
            "Test Accuracy: 0.5408587455749512\n"
          ]
        },
        {
          "output_type": "display_data",
          "data": {
            "text/plain": [
              "<Figure size 640x480 with 1 Axes>"
            ],
            "image/png": "[encoded data removed]"
          },
          "metadata": {}
        },
        {
          "output_type": "display_data",
          "data": {
            "text/plain": [
              "<Figure size 640x480 with 1 Axes>"
            ],
            "image/png": "[encoded data removed]"
          },
          "metadata": {}
        }
      ],
      "source": [
        "from keras.models import Sequential\n",
        "from keras.layers import LSTM, Dense, Dropout, InputLayer\n",
        "from keras.callbacks import EarlyStopping\n",
        "from sklearn.preprocessing import LabelEncoder\n",
        "from sklearn.model_selection import train_test_split\n",
        "\n",
        "# 假设 X_train, X_test, y_train, y_test 已经定义并准备好了\n",
        "# 打印训练数据的形状，确保维度一致\n",
        "print(f\"X_train shape: {X_train.shape}, y_train shape: {y_train_encoded.shape}\")\n",
        "print(f\"X_test shape: {X_test.shape}, y_test shape: {y_test_encoded.shape}\")\n",
        "\n",
        "# 构建LSTM模型\n",
        "model = Sequential()\n",
        "model.add(InputLayer(input_shape=(X_train_pca.shape[1], X_train_pca.shape[2])))\n",
        "model.add(LSTM(units=64, return_sequences=True))\n",
        "model.add(Dropout(0.5))\n",
        "model.add(LSTM(units=32, return_sequences=False))\n",
        "model.add(Dropout(0.5))\n",
        "model.add(Dense(1, activation='sigmoid'))\n",
        "\n",
        "model.compile(optimizer='adam', loss='binary_crossentropy', metrics=['accuracy'])\n",
        "\n",
        "# 启用早停策略\n",
        "# early_stopping = EarlyStopping(monitor='val_loss', patience=10, verbose=1, restore_best_weights=True)\n",
        "\n",
        "# 训练模型\n",
        "history = model.fit(\n",
        "    X_train, y_train_encoded,\n",
        "    epochs=35,\n",
        "    batch_size=64,\n",
        "    validation_data=(X_test, y_test_encoded),\n",
        "    callbacks=[early_stopping]\n",
        ")\n",
        "\n",
        "# 评估模型\n",
        "loss, accuracy = model.evaluate(X_test, y_test_encoded, verbose=0)\n",
        "print(f\"Test Loss: {loss}\")\n",
        "print(f\"Test Accuracy: {accuracy}\")\n",
        "\n",
        "# 可视化训练过程\n",
        "import matplotlib.pyplot as plt\n",
        "\n",
        "# 绘制训练和验证损失\n",
        "plt.figure()\n",
        "plt.plot(history.history['loss'], label='Train Loss')\n",
        "plt.plot(history.history['val_loss'], label='Validation Loss')\n",
        "plt.title('Loss over Epochs')\n",
        "plt.xlabel('Epochs')\n",
        "plt.ylabel('Loss')\n",
        "plt.legend()\n",
        "plt.show()\n",
        "\n",
        "# 绘制训练和验证准确率\n",
        "plt.figure()\n",
        "plt.plot(history.history['accuracy'], label='Train Accuracy')\n",
        "plt.plot(history.history['val_accuracy'], label='Validation Accuracy')\n",
        "plt.title('Accuracy over Epochs')\n",
        "plt.xlabel('Epochs')\n",
        "plt.ylabel('Accuracy')\n",
        "plt.legend()\n",
        "plt.show()\n"
      ]
    },
    {
      "cell_type": "code",
      "execution_count": 49,
      "id": "38e2f9f9-5757-4f75-a8ee-51f99203b455",
      "metadata": {
        "id": "38e2f9f9-5757-4f75-a8ee-51f99203b455",
        "outputId": "759495cf-f5e9-42f3-cd49-b23d6bd68624",
        "colab": {
          "base_uri": "https://localhost:8080/"
        }
      },
      "outputs": [
        {
          "output_type": "stream",
          "name": "stdout",
          "text": [
            "\u001b[1m46/46\u001b[0m \u001b[32m━━━━━━━━━━━━━━━━━━━━\u001b[0m\u001b[37m\u001b[0m \u001b[1m1s\u001b[0m 7ms/step\n",
            "[[1]\n",
            " [0]\n",
            " [0]\n",
            " ...\n",
            " [1]\n",
            " [1]\n",
            " [0]]\n"
          ]
        }
      ],
      "source": [
        "# 预测测试集\n",
        "predictions = model.predict(X_test)\n",
        "\n",
        "# 将概率转换为类别\n",
        "predicted_classes = (predictions > 0.5).astype(\"int32\")\n",
        "\n",
        "# 打印预测结果\n",
        "print(predicted_classes)"
      ]
    },
    {
      "cell_type": "code",
      "execution_count": 50,
      "id": "524df4a6-32ad-4cab-88b2-de129574d744",
      "metadata": {
        "id": "524df4a6-32ad-4cab-88b2-de129574d744",
        "outputId": "dea39345-b86e-4b6a-a5e2-0de3083fd152",
        "colab": {
          "base_uri": "https://localhost:8080/"
        }
      },
      "outputs": [
        {
          "output_type": "stream",
          "name": "stdout",
          "text": [
            "Precision: 0.5280898876404494\n",
            "Recall: 0.4051724137931034\n",
            "F1 Score: 0.4585365853658537\n",
            "Confusion Matrix:\n",
            "[[496 252]\n",
            " [414 282]]\n"
          ]
        }
      ],
      "source": [
        "# 计算精确度、召回率和F1分数\n",
        "from sklearn.metrics import precision_score, recall_score, f1_score, confusion_matrix\n",
        "\n",
        "precision = precision_score(y_test_encoded, predicted_classes)\n",
        "recall = recall_score(y_test_encoded, predicted_classes)\n",
        "f1 = f1_score(y_test_encoded, predicted_classes)\n",
        "\n",
        "print(f\"Precision: {precision}\")\n",
        "print(f\"Recall: {recall}\")\n",
        "print(f\"F1 Score: {f1}\")\n",
        "\n",
        "# 计算混淆矩阵\n",
        "cm = confusion_matrix(y_test_encoded, predicted_classes)\n",
        "print(\"Confusion Matrix:\")\n",
        "print(cm)"
      ]
    },
    {
      "cell_type": "code",
      "source": [
        "from scipy.stats import pearsonr\n",
        "\n",
        "# 确保 X_train_pca 的最后一个维度与 y_train 的长度相同\n",
        "if X_train_pca.shape[-1] == len(y_train):\n",
        "    correlations = [pearsonr(X_train_pca[:, :, i].flatten(), y_train)[0] for i in range(X_train_pca.shape[-1])]\n",
        "    print(\"Correlations with target variable:\", correlations)\n",
        "else:\n",
        "    print(\"Error: The last dimension of X_train_pca does not match the length of y_train.\")\n"
      ],
      "metadata": {
        "colab": {
          "base_uri": "https://localhost:8080/"
        },
        "id": "28V8FItHjGKx",
        "outputId": "2c6af212-1dc8-4939-a509-536ff5dba5a0"
      },
      "id": "28V8FItHjGKx",
      "execution_count": 52,
      "outputs": [
        {
          "output_type": "stream",
          "name": "stdout",
          "text": [
            "Error: The last dimension of X_train_pca does not match the length of y_train.\n"
          ]
        }
      ]
    }
  ],
  "metadata": {
    "kernelspec": {
      "display_name": "Python 3",
      "name": "python3"
    },
    "language_info": {
      "codemirror_mode": {
        "name": "ipython",
        "version": 3
      },
      "file_extension": ".py",
      "mimetype": "text/x-python",
      "name": "python",
      "nbconvert_exporter": "python",
      "pygments_lexer": "ipython3",
      "version": "3.12.0"
    },
    "colab": {
      "provenance": [],
      "machine_shape": "hm",
      "gpuType": "L4",
      "include_colab_link": true
    },
    "accelerator": "GPU"
  },
  "nbformat": 4,
  "nbformat_minor": 5
}