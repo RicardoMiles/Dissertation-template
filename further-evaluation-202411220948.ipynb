{
  "nbformat": 4,
  "nbformat_minor": 0,
  "metadata": {
    "colab": {
      "provenance": [],
      "machine_shape": "hm",
      "gpuType": "T4",
      "authorship_tag": "ABX9TyMxMGQkw8v8NAvebXh0Nq2W",
      "include_colab_link": true
    },
    "kernelspec": {
      "name": "python3",
      "display_name": "Python 3"
    },
    "language_info": {
      "name": "python"
    },
    "accelerator": "GPU"
  },
  "cells": [
    {
      "cell_type": "markdown",
      "metadata": {
        "id": "view-in-github",
        "colab_type": "text"
      },
      "source": [
        "<a href=\"https://colab.research.google.com/github/RicardoMiles/Dissertation-template/blob/main/further-evaluation-202411220948.ipynb\" target=\"_parent\"><img src=\"https://colab.research.google.com/assets/colab-badge.svg\" alt=\"Open In Colab\"/></a>"
      ]
    },
    {
      "cell_type": "code",
      "execution_count": 1,
      "metadata": {
        "colab": {
          "base_uri": "https://localhost:8080/"
        },
        "id": "WIH7sVfQPiXH",
        "outputId": "0888a7b5-f8fd-411e-c079-18f15f70c024"
      },
      "outputs": [
        {
          "output_type": "stream",
          "name": "stdout",
          "text": [
            "Mounted at /content/drive\n",
            "/content/drive/My Drive/Colab Notebooks/SummerProject/src\n"
          ]
        }
      ],
      "source": [
        "from google.colab import drive\n",
        "drive.mount('/content/drive')\n",
        "import os\n",
        "os.chdir('/content/drive/My Drive/Colab Notebooks/SummerProject/src')\n",
        "!pwd"
      ]
    },
    {
      "cell_type": "code",
      "source": [
        "import pandas as pd\n",
        "import numpy as np\n",
        "import os\n",
        "from sklearn.preprocessing import LabelEncoder\n",
        "from sklearn.model_selection import train_test_split\n",
        "\n",
        "# 定义包含CSV文件的文件夹路径\n",
        "current_dir = os.getcwd()\n",
        "root_dir = os.path.dirname(current_dir)\n",
        "data_dir = os.path.join(root_dir, 'Data')\n",
        "left_data = os.path.join(data_dir,'left')\n",
        "right_data = os.path.join(data_dir,'right')\n",
        "\n",
        "folder_path = left_data\n",
        "\n",
        "# 获取left文件夹中所有CSV文件的列表\n",
        "csv_files_left = [os.path.join(left_data, file) for file in os.listdir(left_data) if file.endswith('.csv')]\n",
        "# 获取right文件夹中所有CSV文件的列表\n",
        "csv_files_right = [os.path.join(right_data, file) for file in os.listdir(right_data) if file.endswith('.csv')]\n",
        "\n",
        "print(f\"Number of left files: {len(csv_files_left)}\")\n",
        "print(f\"Number of right files: {len(csv_files_right)}\")"
      ],
      "metadata": {
        "id": "Em_TnpEVg30c",
        "colab": {
          "base_uri": "https://localhost:8080/"
        },
        "outputId": "902dace9-7c75-4f0f-a4f5-0ff17a8b5b48"
      },
      "execution_count": 2,
      "outputs": [
        {
          "output_type": "stream",
          "name": "stdout",
          "text": [
            "Number of left files: 26\n",
            "Number of right files: 26\n"
          ]
        }
      ]
    },
    {
      "cell_type": "code",
      "source": [
        "from scipy import stats\n",
        "# 定义特征提取函数\n",
        "def extract_features(group):\n",
        "    features = []\n",
        "    # 遍历第三列到最后一列\n",
        "    for col in group.columns[2:]:  # 从第三列开始提取特征\n",
        "        data = group[col].values\n",
        "        features.append(data.mean())  # 均值\n",
        "        features.append(data.std())   # 标准差\n",
        "        features.append(stats.skew(data))  # 偏度\n",
        "        features.append(stats.kurtosis(data))  # 峰度\n",
        "    return features"
      ],
      "metadata": {
        "id": "aJojEk5bh474"
      },
      "execution_count": 3,
      "outputs": []
    },
    {
      "cell_type": "code",
      "execution_count": 4,
      "metadata": {
        "colab": {
          "base_uri": "https://localhost:8080/"
        },
        "outputId": "c4a0e6d4-2172-4833-ce62-6750dcac037f",
        "id": "ymVe5iOKXLIw"
      },
      "outputs": [
        {
          "output_type": "stream",
          "name": "stdout",
          "text": [
            "Total CSV files processed: 52\n"
          ]
        }
      ],
      "source": [
        "# 初始化存储所有特征和标签的列表\n",
        "all_features = []\n",
        "all_labels = []\n",
        "\n",
        "# 初始化CSV文件计数器\n",
        "csv_files_count = 0\n",
        "\n",
        "# 处理left文件夹中的CSV文件\n",
        "for file_name in csv_files_left:\n",
        "    df = pd.read_csv(file_name)\n",
        "    csv_files_count += 1  # 增加文件计数\n",
        "    # 将数据按照epoch分组\n",
        "    grouped = df.groupby(df.columns[1])  # 第二列是epoch分组的列\n",
        "    for name, group in grouped:\n",
        "        # 过滤掉time小于0的数据\n",
        "        group = group[group[df.columns[0]] >= 0]  # 假设time列是第一列\n",
        "        if len(group) == 81:  # 确保过滤后有81条数据\n",
        "            # 提取特征\n",
        "            features = group.iloc[:, 2:].values  # 第三列及以后是EEG通道信号\n",
        "            all_features.append(features)\n",
        "            # 获取标签\n",
        "            all_labels.append('left')\n",
        "\n",
        "# 处理right文件夹中的CSV文件\n",
        "for file_name in csv_files_right:\n",
        "    df_right = pd.read_csv(file_name)\n",
        "    csv_files_count += 1  # 增加文件计数\n",
        "    # 将数据按照epoch分组\n",
        "    grouped_right = df_right.groupby(df_right.columns[1])  # 第二列是epoch分组的列\n",
        "    for name, group in grouped_right:\n",
        "        # 过滤掉time小于0的数据\n",
        "        group = group[group[df_right.columns[0]] >= 0]  # 假设time列是第一列\n",
        "        if len(group) == 81:  # 确保过滤后有81条数据\n",
        "            # 提取特征\n",
        "            features = group.iloc[:, 2:].values  # 第三列及以后是EEG通道信号\n",
        "            all_features.append(features)\n",
        "            # 获取标签\n",
        "            all_labels.append('right')\n",
        "\n",
        "# 将特征和标签转换为NumPy数组\n",
        "features_array = np.array(all_features)\n",
        "labels_array = np.array(all_labels)\n",
        "\n",
        "# 打印处理的CSV文件数量\n",
        "print(f\"Total CSV files processed: {csv_files_count}\")"
      ]
    },
    {
      "cell_type": "code",
      "source": [
        "print(f\"Total samples: {features_array.shape[0]}\")  # 样本数量\n",
        "print(f\"Timepoints per sample: {features_array.shape[1]}\")  # 每个样本的时间点\n",
        "print(f\"Features per timepoint: {features_array.shape[2]}\")  # 每个时间点的特征\n"
      ],
      "metadata": {
        "colab": {
          "base_uri": "https://localhost:8080/"
        },
        "id": "U_gXZifRFhGv",
        "outputId": "f77808b7-215f-4fbe-a658-d3beb5cbca5a"
      },
      "execution_count": 6,
      "outputs": [
        {
          "output_type": "stream",
          "name": "stdout",
          "text": [
            "Total samples: 7220\n",
            "Timepoints per sample: 81\n",
            "Features per timepoint: 101\n"
          ]
        }
      ]
    },
    {
      "cell_type": "code",
      "source": [
        "from datetime import datetime\n",
        "\n",
        "# 划分数据集\n",
        "X_train, X_test, y_train, y_test = train_test_split(features_array, labels_array, test_size=0.2, random_state=42)\n",
        "\n",
        "# 打印当前处理的时间\n",
        "current_time = datetime.now().strftime(\"%Y-%m-%d %H:%M:%S\")\n",
        "print(f\"Current processing time: {current_time}\")"
      ],
      "metadata": {
        "id": "gWYVXC1BiAfT",
        "colab": {
          "base_uri": "https://localhost:8080/"
        },
        "outputId": "9b196f78-e248-49a1-d2ef-f6c7e56c59d7"
      },
      "execution_count": 7,
      "outputs": [
        {
          "output_type": "stream",
          "name": "stdout",
          "text": [
            "Current processing time: 2024-11-22 08:58:54\n"
          ]
        }
      ]
    },
    {
      "cell_type": "code",
      "source": [
        "from datetime import datetime\n",
        "from sklearn.model_selection import train_test_split\n",
        "from sklearn.preprocessing import LabelEncoder\n",
        "\n",
        "# 初始化标签编码器\n",
        "label_encoder = LabelEncoder()\n",
        "\n",
        "# 将训练集和测试集的标签转换为数值\n",
        "y_train_encoded = label_encoder.fit_transform(y_train)\n",
        "y_test_encoded = label_encoder.transform(y_test)\n",
        "\n",
        "# 确保转换后的标签是正确的数据类型\n",
        "y_train_encoded = y_train_encoded.astype('int32')\n",
        "y_test_encoded = y_test_encoded.astype('int32')"
      ],
      "metadata": {
        "id": "xU68yKwRiSCo"
      },
      "execution_count": 8,
      "outputs": []
    },
    {
      "cell_type": "code",
      "source": [
        "from sklearn.decomposition import PCA\n",
        "import numpy as np\n",
        "\n",
        "# 降维目标：保留的特征数量\n",
        "n_components = 75  # 设置主成分数\n",
        "\n",
        "# 初始化 PCA 模型\n",
        "pca = PCA(n_components=n_components)\n",
        "\n",
        "# 对每个样本中的时间步进行 PCA 降维\n",
        "X_train_pca = np.array([pca.fit_transform(sample) for sample in X_train])  # 对训练集降维\n",
        "X_test_pca = np.array([pca.transform(sample) for sample in X_test])       # 对测试集降维\n",
        "\n",
        "# 检查降维后形状\n",
        "print(f\"Original shape: {X_train.shape}, Reduced shape: {X_train_pca.shape}\")\n"
      ],
      "metadata": {
        "colab": {
          "base_uri": "https://localhost:8080/"
        },
        "id": "Vt31_MwnMHzL",
        "outputId": "78d9c9fa-d36d-4bc4-feae-9aea7fc79c2f"
      },
      "execution_count": 46,
      "outputs": [
        {
          "output_type": "stream",
          "name": "stdout",
          "text": [
            "Original shape: (5776, 81, 101), Reduced shape: (5776, 81, 75)\n"
          ]
        }
      ]
    },
    {
      "cell_type": "code",
      "source": [
        "print(f\"Explained variance ratio: {np.sum(pca.explained_variance_ratio_):.2f}\")\n",
        "print(f\"X_train_pca shape: {X_train_pca.shape}\")\n",
        "print(f\"X_test_pca shape: {X_test_pca.shape}\")"
      ],
      "metadata": {
        "colab": {
          "base_uri": "https://localhost:8080/"
        },
        "id": "kI22YAvbNXbL",
        "outputId": "aa003a3f-ef5f-4a72-8e66-cbb5c4d21df9"
      },
      "execution_count": 51,
      "outputs": [
        {
          "output_type": "stream",
          "name": "stdout",
          "text": [
            "Explained variance ratio: 1.00\n",
            "X_train_pca shape: (5776, 81, 75)\n",
            "X_test_pca shape: (1444, 81, 75)\n"
          ]
        }
      ]
    },
    {
      "cell_type": "code",
      "source": [
        "from tensorflow.keras.models import Sequential\n",
        "from tensorflow.keras.layers import LSTM, Dense, Dropout\n",
        "\n",
        "# 构建 LSTM 模型\n",
        "model = Sequential([\n",
        "    LSTM(64, input_shape=(81, 75), return_sequences=True),  # 第一层 LSTM\n",
        "    Dropout(0.3),\n",
        "    LSTM(32, return_sequences=False),  # 第二层 LSTM\n",
        "    Dropout(0.3),\n",
        "    Dense(16, activation='relu'),  # 全连接层\n",
        "    Dense(1, activation='sigmoid')  # 输出层（适合二分类任务）\n",
        "])\n",
        "\n",
        "# 编译模型\n",
        "model.compile(optimizer='adam', loss='binary_crossentropy', metrics=['accuracy'])\n",
        "\n",
        "# 打印模型结构\n",
        "model.summary()"
      ],
      "metadata": {
        "colab": {
          "base_uri": "https://localhost:8080/",
          "height": 321
        },
        "id": "s5rIBvW5HUlW",
        "outputId": "a6585da1-34a1-4d2f-bb90-7919ea68c6b7"
      },
      "execution_count": 52,
      "outputs": [
        {
          "output_type": "display_data",
          "data": {
            "text/plain": [
              "\u001b[1mModel: \"sequential_9\"\u001b[0m\n"
            ],
            "text/html": [
              "<pre style=\"white-space:pre;overflow-x:auto;line-height:normal;font-family:Menlo,'DejaVu Sans Mono',consolas,'Courier New',monospace\"><span style=\"font-weight: bold\">Model: \"sequential_9\"</span>\n",
              "</pre>\n"
            ]
          },
          "metadata": {}
        },
        {
          "output_type": "display_data",
          "data": {
            "text/plain": [
              "┏━━━━━━━━━━━━━━━━━━━━━━━━━━━━━━━━━━━━━━┳━━━━━━━━━━━━━━━━━━━━━━━━━━━━━┳━━━━━━━━━━━━━━━━━┓\n",
              "┃\u001b[1m \u001b[0m\u001b[1mLayer (type)                        \u001b[0m\u001b[1m \u001b[0m┃\u001b[1m \u001b[0m\u001b[1mOutput Shape               \u001b[0m\u001b[1m \u001b[0m┃\u001b[1m \u001b[0m\u001b[1m        Param #\u001b[0m\u001b[1m \u001b[0m┃\n",
              "┡━━━━━━━━━━━━━━━━━━━━━━━━━━━━━━━━━━━━━━╇━━━━━━━━━━━━━━━━━━━━━━━━━━━━━╇━━━━━━━━━━━━━━━━━┩\n",
              "│ lstm_13 (\u001b[38;5;33mLSTM\u001b[0m)                       │ (\u001b[38;5;45mNone\u001b[0m, \u001b[38;5;34m81\u001b[0m, \u001b[38;5;34m64\u001b[0m)              │          \u001b[38;5;34m35,840\u001b[0m │\n",
              "├──────────────────────────────────────┼─────────────────────────────┼─────────────────┤\n",
              "│ dropout_15 (\u001b[38;5;33mDropout\u001b[0m)                 │ (\u001b[38;5;45mNone\u001b[0m, \u001b[38;5;34m81\u001b[0m, \u001b[38;5;34m64\u001b[0m)              │               \u001b[38;5;34m0\u001b[0m │\n",
              "├──────────────────────────────────────┼─────────────────────────────┼─────────────────┤\n",
              "│ lstm_14 (\u001b[38;5;33mLSTM\u001b[0m)                       │ (\u001b[38;5;45mNone\u001b[0m, \u001b[38;5;34m32\u001b[0m)                  │          \u001b[38;5;34m12,416\u001b[0m │\n",
              "├──────────────────────────────────────┼─────────────────────────────┼─────────────────┤\n",
              "│ dropout_16 (\u001b[38;5;33mDropout\u001b[0m)                 │ (\u001b[38;5;45mNone\u001b[0m, \u001b[38;5;34m32\u001b[0m)                  │               \u001b[38;5;34m0\u001b[0m │\n",
              "├──────────────────────────────────────┼─────────────────────────────┼─────────────────┤\n",
              "│ dense_19 (\u001b[38;5;33mDense\u001b[0m)                     │ (\u001b[38;5;45mNone\u001b[0m, \u001b[38;5;34m16\u001b[0m)                  │             \u001b[38;5;34m528\u001b[0m │\n",
              "├──────────────────────────────────────┼─────────────────────────────┼─────────────────┤\n",
              "│ dense_20 (\u001b[38;5;33mDense\u001b[0m)                     │ (\u001b[38;5;45mNone\u001b[0m, \u001b[38;5;34m1\u001b[0m)                   │              \u001b[38;5;34m17\u001b[0m │\n",
              "└──────────────────────────────────────┴─────────────────────────────┴─────────────────┘\n"
            ],
            "text/html": [
              "<pre style=\"white-space:pre;overflow-x:auto;line-height:normal;font-family:Menlo,'DejaVu Sans Mono',consolas,'Courier New',monospace\">┏━━━━━━━━━━━━━━━━━━━━━━━━━━━━━━━━━━━━━━┳━━━━━━━━━━━━━━━━━━━━━━━━━━━━━┳━━━━━━━━━━━━━━━━━┓\n",
              "┃<span style=\"font-weight: bold\"> Layer (type)                         </span>┃<span style=\"font-weight: bold\"> Output Shape                </span>┃<span style=\"font-weight: bold\">         Param # </span>┃\n",
              "┡━━━━━━━━━━━━━━━━━━━━━━━━━━━━━━━━━━━━━━╇━━━━━━━━━━━━━━━━━━━━━━━━━━━━━╇━━━━━━━━━━━━━━━━━┩\n",
              "│ lstm_13 (<span style=\"color: #0087ff; text-decoration-color: #0087ff\">LSTM</span>)                       │ (<span style=\"color: #00d7ff; text-decoration-color: #00d7ff\">None</span>, <span style=\"color: #00af00; text-decoration-color: #00af00\">81</span>, <span style=\"color: #00af00; text-decoration-color: #00af00\">64</span>)              │          <span style=\"color: #00af00; text-decoration-color: #00af00\">35,840</span> │\n",
              "├──────────────────────────────────────┼─────────────────────────────┼─────────────────┤\n",
              "│ dropout_15 (<span style=\"color: #0087ff; text-decoration-color: #0087ff\">Dropout</span>)                 │ (<span style=\"color: #00d7ff; text-decoration-color: #00d7ff\">None</span>, <span style=\"color: #00af00; text-decoration-color: #00af00\">81</span>, <span style=\"color: #00af00; text-decoration-color: #00af00\">64</span>)              │               <span style=\"color: #00af00; text-decoration-color: #00af00\">0</span> │\n",
              "├──────────────────────────────────────┼─────────────────────────────┼─────────────────┤\n",
              "│ lstm_14 (<span style=\"color: #0087ff; text-decoration-color: #0087ff\">LSTM</span>)                       │ (<span style=\"color: #00d7ff; text-decoration-color: #00d7ff\">None</span>, <span style=\"color: #00af00; text-decoration-color: #00af00\">32</span>)                  │          <span style=\"color: #00af00; text-decoration-color: #00af00\">12,416</span> │\n",
              "├──────────────────────────────────────┼─────────────────────────────┼─────────────────┤\n",
              "│ dropout_16 (<span style=\"color: #0087ff; text-decoration-color: #0087ff\">Dropout</span>)                 │ (<span style=\"color: #00d7ff; text-decoration-color: #00d7ff\">None</span>, <span style=\"color: #00af00; text-decoration-color: #00af00\">32</span>)                  │               <span style=\"color: #00af00; text-decoration-color: #00af00\">0</span> │\n",
              "├──────────────────────────────────────┼─────────────────────────────┼─────────────────┤\n",
              "│ dense_19 (<span style=\"color: #0087ff; text-decoration-color: #0087ff\">Dense</span>)                     │ (<span style=\"color: #00d7ff; text-decoration-color: #00d7ff\">None</span>, <span style=\"color: #00af00; text-decoration-color: #00af00\">16</span>)                  │             <span style=\"color: #00af00; text-decoration-color: #00af00\">528</span> │\n",
              "├──────────────────────────────────────┼─────────────────────────────┼─────────────────┤\n",
              "│ dense_20 (<span style=\"color: #0087ff; text-decoration-color: #0087ff\">Dense</span>)                     │ (<span style=\"color: #00d7ff; text-decoration-color: #00d7ff\">None</span>, <span style=\"color: #00af00; text-decoration-color: #00af00\">1</span>)                   │              <span style=\"color: #00af00; text-decoration-color: #00af00\">17</span> │\n",
              "└──────────────────────────────────────┴─────────────────────────────┴─────────────────┘\n",
              "</pre>\n"
            ]
          },
          "metadata": {}
        },
        {
          "output_type": "display_data",
          "data": {
            "text/plain": [
              "\u001b[1m Total params: \u001b[0m\u001b[38;5;34m48,801\u001b[0m (190.63 KB)\n"
            ],
            "text/html": [
              "<pre style=\"white-space:pre;overflow-x:auto;line-height:normal;font-family:Menlo,'DejaVu Sans Mono',consolas,'Courier New',monospace\"><span style=\"font-weight: bold\"> Total params: </span><span style=\"color: #00af00; text-decoration-color: #00af00\">48,801</span> (190.63 KB)\n",
              "</pre>\n"
            ]
          },
          "metadata": {}
        },
        {
          "output_type": "display_data",
          "data": {
            "text/plain": [
              "\u001b[1m Trainable params: \u001b[0m\u001b[38;5;34m48,801\u001b[0m (190.63 KB)\n"
            ],
            "text/html": [
              "<pre style=\"white-space:pre;overflow-x:auto;line-height:normal;font-family:Menlo,'DejaVu Sans Mono',consolas,'Courier New',monospace\"><span style=\"font-weight: bold\"> Trainable params: </span><span style=\"color: #00af00; text-decoration-color: #00af00\">48,801</span> (190.63 KB)\n",
              "</pre>\n"
            ]
          },
          "metadata": {}
        },
        {
          "output_type": "display_data",
          "data": {
            "text/plain": [
              "\u001b[1m Non-trainable params: \u001b[0m\u001b[38;5;34m0\u001b[0m (0.00 B)\n"
            ],
            "text/html": [
              "<pre style=\"white-space:pre;overflow-x:auto;line-height:normal;font-family:Menlo,'DejaVu Sans Mono',consolas,'Courier New',monospace\"><span style=\"font-weight: bold\"> Non-trainable params: </span><span style=\"color: #00af00; text-decoration-color: #00af00\">0</span> (0.00 B)\n",
              "</pre>\n"
            ]
          },
          "metadata": {}
        }
      ]
    },
    {
      "cell_type": "code",
      "source": [
        "history = model.fit(\n",
        "    X_train_pca, y_train,  # 使用降维后的数据\n",
        "    epochs=30,\n",
        "    batch_size=64,\n",
        "    validation_data=(X_test_pca, y_test),\n",
        "    verbose=1\n",
        ")\n"
      ],
      "metadata": {
        "colab": {
          "base_uri": "https://localhost:8080/"
        },
        "id": "TzYL341yIC-K",
        "outputId": "76890cc5-1fc7-4a3a-887c-dcae1d252dac"
      },
      "execution_count": 53,
      "outputs": [
        {
          "output_type": "stream",
          "name": "stdout",
          "text": [
            "Epoch 1/30\n",
            "\u001b[1m91/91\u001b[0m \u001b[32m━━━━━━━━━━━━━━━━━━━━\u001b[0m\u001b[37m\u001b[0m \u001b[1m3s\u001b[0m 15ms/step - accuracy: 0.5070 - loss: 0.6970 - val_accuracy: 0.5007 - val_loss: 0.7010\n",
            "Epoch 2/30\n",
            "\u001b[1m91/91\u001b[0m \u001b[32m━━━━━━━━━━━━━━━━━━━━\u001b[0m\u001b[37m\u001b[0m \u001b[1m1s\u001b[0m 10ms/step - accuracy: 0.5205 - loss: 0.6927 - val_accuracy: 0.5042 - val_loss: 0.7048\n",
            "Epoch 3/30\n",
            "\u001b[1m91/91\u001b[0m \u001b[32m━━━━━━━━━━━━━━━━━━━━\u001b[0m\u001b[37m\u001b[0m \u001b[1m1s\u001b[0m 10ms/step - accuracy: 0.5179 - loss: 0.6930 - val_accuracy: 0.5118 - val_loss: 0.7051\n",
            "Epoch 4/30\n",
            "\u001b[1m91/91\u001b[0m \u001b[32m━━━━━━━━━━━━━━━━━━━━\u001b[0m\u001b[37m\u001b[0m \u001b[1m1s\u001b[0m 10ms/step - accuracy: 0.5331 - loss: 0.6896 - val_accuracy: 0.5090 - val_loss: 0.7114\n",
            "Epoch 5/30\n",
            "\u001b[1m91/91\u001b[0m \u001b[32m━━━━━━━━━━━━━━━━━━━━\u001b[0m\u001b[37m\u001b[0m \u001b[1m1s\u001b[0m 10ms/step - accuracy: 0.5346 - loss: 0.6890 - val_accuracy: 0.5035 - val_loss: 0.7083\n",
            "Epoch 6/30\n",
            "\u001b[1m91/91\u001b[0m \u001b[32m━━━━━━━━━━━━━━━━━━━━\u001b[0m\u001b[37m\u001b[0m \u001b[1m1s\u001b[0m 10ms/step - accuracy: 0.5211 - loss: 0.6904 - val_accuracy: 0.5055 - val_loss: 0.7118\n",
            "Epoch 7/30\n",
            "\u001b[1m91/91\u001b[0m \u001b[32m━━━━━━━━━━━━━━━━━━━━\u001b[0m\u001b[37m\u001b[0m \u001b[1m1s\u001b[0m 10ms/step - accuracy: 0.5508 - loss: 0.6865 - val_accuracy: 0.4993 - val_loss: 0.7144\n",
            "Epoch 8/30\n",
            "\u001b[1m91/91\u001b[0m \u001b[32m━━━━━━━━━━━━━━━━━━━━\u001b[0m\u001b[37m\u001b[0m \u001b[1m1s\u001b[0m 10ms/step - accuracy: 0.5576 - loss: 0.6826 - val_accuracy: 0.4972 - val_loss: 0.7177\n",
            "Epoch 9/30\n",
            "\u001b[1m91/91\u001b[0m \u001b[32m━━━━━━━━━━━━━━━━━━━━\u001b[0m\u001b[37m\u001b[0m \u001b[1m1s\u001b[0m 10ms/step - accuracy: 0.5706 - loss: 0.6796 - val_accuracy: 0.5028 - val_loss: 0.7275\n",
            "Epoch 10/30\n",
            "\u001b[1m91/91\u001b[0m \u001b[32m━━━━━━━━━━━━━━━━━━━━\u001b[0m\u001b[37m\u001b[0m \u001b[1m1s\u001b[0m 10ms/step - accuracy: 0.5572 - loss: 0.6785 - val_accuracy: 0.4972 - val_loss: 0.7248\n",
            "Epoch 11/30\n",
            "\u001b[1m91/91\u001b[0m \u001b[32m━━━━━━━━━━━━━━━━━━━━\u001b[0m\u001b[37m\u001b[0m \u001b[1m1s\u001b[0m 10ms/step - accuracy: 0.5732 - loss: 0.6737 - val_accuracy: 0.4917 - val_loss: 0.7306\n",
            "Epoch 12/30\n",
            "\u001b[1m91/91\u001b[0m \u001b[32m━━━━━━━━━━━━━━━━━━━━\u001b[0m\u001b[37m\u001b[0m \u001b[1m1s\u001b[0m 10ms/step - accuracy: 0.5841 - loss: 0.6695 - val_accuracy: 0.5007 - val_loss: 0.7411\n",
            "Epoch 13/30\n",
            "\u001b[1m91/91\u001b[0m \u001b[32m━━━━━━━━━━━━━━━━━━━━\u001b[0m\u001b[37m\u001b[0m \u001b[1m1s\u001b[0m 10ms/step - accuracy: 0.5934 - loss: 0.6648 - val_accuracy: 0.4903 - val_loss: 0.7628\n",
            "Epoch 14/30\n",
            "\u001b[1m91/91\u001b[0m \u001b[32m━━━━━━━━━━━━━━━━━━━━\u001b[0m\u001b[37m\u001b[0m \u001b[1m1s\u001b[0m 10ms/step - accuracy: 0.5918 - loss: 0.6595 - val_accuracy: 0.5014 - val_loss: 0.7639\n",
            "Epoch 15/30\n",
            "\u001b[1m91/91\u001b[0m \u001b[32m━━━━━━━━━━━━━━━━━━━━\u001b[0m\u001b[37m\u001b[0m \u001b[1m1s\u001b[0m 10ms/step - accuracy: 0.6049 - loss: 0.6546 - val_accuracy: 0.4841 - val_loss: 0.8562\n",
            "Epoch 16/30\n",
            "\u001b[1m91/91\u001b[0m \u001b[32m━━━━━━━━━━━━━━━━━━━━\u001b[0m\u001b[37m\u001b[0m \u001b[1m1s\u001b[0m 10ms/step - accuracy: 0.6321 - loss: 0.6344 - val_accuracy: 0.4917 - val_loss: 0.8281\n",
            "Epoch 17/30\n",
            "\u001b[1m91/91\u001b[0m \u001b[32m━━━━━━━━━━━━━━━━━━━━\u001b[0m\u001b[37m\u001b[0m \u001b[1m1s\u001b[0m 10ms/step - accuracy: 0.6246 - loss: 0.6292 - val_accuracy: 0.4882 - val_loss: 0.8918\n",
            "Epoch 18/30\n",
            "\u001b[1m91/91\u001b[0m \u001b[32m━━━━━━━━━━━━━━━━━━━━\u001b[0m\u001b[37m\u001b[0m \u001b[1m1s\u001b[0m 10ms/step - accuracy: 0.6440 - loss: 0.6168 - val_accuracy: 0.4945 - val_loss: 0.8690\n",
            "Epoch 19/30\n",
            "\u001b[1m91/91\u001b[0m \u001b[32m━━━━━━━━━━━━━━━━━━━━\u001b[0m\u001b[37m\u001b[0m \u001b[1m1s\u001b[0m 10ms/step - accuracy: 0.6627 - loss: 0.6029 - val_accuracy: 0.4855 - val_loss: 0.9134\n",
            "Epoch 20/30\n",
            "\u001b[1m91/91\u001b[0m \u001b[32m━━━━━━━━━━━━━━━━━━━━\u001b[0m\u001b[37m\u001b[0m \u001b[1m1s\u001b[0m 10ms/step - accuracy: 0.6693 - loss: 0.5840 - val_accuracy: 0.5000 - val_loss: 0.9399\n",
            "Epoch 21/30\n",
            "\u001b[1m91/91\u001b[0m \u001b[32m━━━━━━━━━━━━━━━━━━━━\u001b[0m\u001b[37m\u001b[0m \u001b[1m1s\u001b[0m 10ms/step - accuracy: 0.6891 - loss: 0.5749 - val_accuracy: 0.5111 - val_loss: 1.0247\n",
            "Epoch 22/30\n",
            "\u001b[1m91/91\u001b[0m \u001b[32m━━━━━━━━━━━━━━━━━━━━\u001b[0m\u001b[37m\u001b[0m \u001b[1m1s\u001b[0m 10ms/step - accuracy: 0.7042 - loss: 0.5583 - val_accuracy: 0.5062 - val_loss: 1.0824\n",
            "Epoch 23/30\n",
            "\u001b[1m91/91\u001b[0m \u001b[32m━━━━━━━━━━━━━━━━━━━━\u001b[0m\u001b[37m\u001b[0m \u001b[1m1s\u001b[0m 10ms/step - accuracy: 0.7042 - loss: 0.5471 - val_accuracy: 0.4958 - val_loss: 1.1293\n",
            "Epoch 24/30\n",
            "\u001b[1m91/91\u001b[0m \u001b[32m━━━━━━━━━━━━━━━━━━━━\u001b[0m\u001b[37m\u001b[0m \u001b[1m1s\u001b[0m 10ms/step - accuracy: 0.7018 - loss: 0.5372 - val_accuracy: 0.5007 - val_loss: 1.1201\n",
            "Epoch 25/30\n",
            "\u001b[1m91/91\u001b[0m \u001b[32m━━━━━━━━━━━━━━━━━━━━\u001b[0m\u001b[37m\u001b[0m \u001b[1m1s\u001b[0m 10ms/step - accuracy: 0.7346 - loss: 0.5051 - val_accuracy: 0.4841 - val_loss: 1.2290\n",
            "Epoch 26/30\n",
            "\u001b[1m91/91\u001b[0m \u001b[32m━━━━━━━━━━━━━━━━━━━━\u001b[0m\u001b[37m\u001b[0m \u001b[1m1s\u001b[0m 10ms/step - accuracy: 0.7597 - loss: 0.4721 - val_accuracy: 0.4979 - val_loss: 1.2860\n",
            "Epoch 27/30\n",
            "\u001b[1m91/91\u001b[0m \u001b[32m━━━━━━━━━━━━━━━━━━━━\u001b[0m\u001b[37m\u001b[0m \u001b[1m1s\u001b[0m 10ms/step - accuracy: 0.7583 - loss: 0.4824 - val_accuracy: 0.5035 - val_loss: 1.3253\n",
            "Epoch 28/30\n",
            "\u001b[1m91/91\u001b[0m \u001b[32m━━━━━━━━━━━━━━━━━━━━\u001b[0m\u001b[37m\u001b[0m \u001b[1m1s\u001b[0m 10ms/step - accuracy: 0.7773 - loss: 0.4442 - val_accuracy: 0.4986 - val_loss: 1.4025\n",
            "Epoch 29/30\n",
            "\u001b[1m91/91\u001b[0m \u001b[32m━━━━━━━━━━━━━━━━━━━━\u001b[0m\u001b[37m\u001b[0m \u001b[1m1s\u001b[0m 10ms/step - accuracy: 0.7802 - loss: 0.4321 - val_accuracy: 0.5028 - val_loss: 1.5085\n",
            "Epoch 30/30\n",
            "\u001b[1m91/91\u001b[0m \u001b[32m━━━━━━━━━━━━━━━━━━━━\u001b[0m\u001b[37m\u001b[0m \u001b[1m1s\u001b[0m 10ms/step - accuracy: 0.7802 - loss: 0.4268 - val_accuracy: 0.4993 - val_loss: 1.5937\n"
          ]
        }
      ]
    },
    {
      "cell_type": "code",
      "source": [
        "# 测试集评估\n",
        "loss, accuracy = model.evaluate(X_test_pca, y_test)\n",
        "print(f\"Test Loss: {loss}\")\n",
        "print(f\"Test Accuracy: {accuracy}\")\n",
        "\n",
        "# 可视化训练过程\n",
        "import matplotlib.pyplot as plt\n",
        "\n",
        "# 准确率曲线\n",
        "plt.plot(history.history['accuracy'], label='Train Accuracy')\n",
        "plt.plot(history.history['val_accuracy'], label='Validation Accuracy')\n",
        "plt.legend()\n",
        "plt.title('Accuracy over Epochs')\n",
        "plt.show()\n",
        "\n",
        "# 损失曲线\n",
        "plt.plot(history.history['loss'], label='Train Loss')\n",
        "plt.plot(history.history['val_loss'], label='Validation Loss')\n",
        "plt.legend()\n",
        "plt.title('Loss over Epochs')\n",
        "plt.show()\n"
      ],
      "metadata": {
        "colab": {
          "base_uri": "https://localhost:8080/",
          "height": 939
        },
        "id": "FTJr9R5FIRQB",
        "outputId": "5e7cb421-41f2-4cad-af06-d00f9b82ab7f"
      },
      "execution_count": 54,
      "outputs": [
        {
          "output_type": "stream",
          "name": "stdout",
          "text": [
            "\u001b[1m46/46\u001b[0m \u001b[32m━━━━━━━━━━━━━━━━━━━━\u001b[0m\u001b[37m\u001b[0m \u001b[1m0s\u001b[0m 5ms/step - accuracy: 0.4846 - loss: 1.6421\n",
            "Test Loss: 1.5937210321426392\n",
            "Test Accuracy: 0.4993074834346771\n"
          ]
        },
        {
          "output_type": "display_data",
          "data": {
            "text/plain": [
              "<Figure size 640x480 with 1 Axes>"
            ],
            "image/png": "[encoded data removed]"
          },
          "metadata": {}
        },
        {
          "output_type": "display_data",
          "data": {
            "text/plain": [
              "<Figure size 640x480 with 1 Axes>"
            ],
            "image/png": "[encoded data removed]"
          },
          "metadata": {}
        }
      ]
    },
    {
      "cell_type": "code",
      "source": [
        "from collections import Counter\n",
        "\n",
        "print(f\"Label distribution: {Counter(y_train)}\")\n"
      ],
      "metadata": {
        "colab": {
          "base_uri": "https://localhost:8080/"
        },
        "id": "TJlPg6xnQVEl",
        "outputId": "334457e0-6c2a-468b-8701-77fc92e97b06"
      },
      "execution_count": 55,
      "outputs": [
        {
          "output_type": "stream",
          "name": "stdout",
          "text": [
            "Label distribution: Counter({0: 2941, 1: 2835})\n"
          ]
        }
      ]
    },
    {
      "cell_type": "code",
      "source": [
        "from sklearn.ensemble import RandomForestClassifier\n",
        "from sklearn.metrics import accuracy_score, classification_report\n",
        "\n",
        "# 展平数据，适配随机森林\n",
        "X_train_flat = X_train_pca.reshape(X_train_pca.shape[0], -1)\n",
        "X_test_flat = X_test_pca.reshape(X_test_pca.shape[0], -1)\n",
        "\n",
        "# 训练随机森林\n",
        "clf = RandomForestClassifier(n_estimators=100, random_state=42)\n",
        "clf.fit(X_train_flat, y_train)\n",
        "\n",
        "# 预测并评估\n",
        "y_pred = clf.predict(X_test_flat)\n",
        "print(f\"Random Forest Accuracy: {accuracy_score(y_test, y_pred)}\")\n",
        "print(\"Classification Report:\")\n",
        "print(classification_report(y_test, y_pred))\n"
      ],
      "metadata": {
        "colab": {
          "base_uri": "https://localhost:8080/"
        },
        "id": "TH58KCFVQrXp",
        "outputId": "d47e4b4d-d4fd-4961-b741-434a547fc853"
      },
      "execution_count": 56,
      "outputs": [
        {
          "output_type": "stream",
          "name": "stdout",
          "text": [
            "Random Forest Accuracy: 0.48753462603878117\n",
            "Classification Report:\n",
            "              precision    recall  f1-score   support\n",
            "\n",
            "           0       0.51      0.53      0.52       748\n",
            "           1       0.47      0.45      0.46       696\n",
            "\n",
            "    accuracy                           0.49      1444\n",
            "   macro avg       0.49      0.49      0.49      1444\n",
            "weighted avg       0.49      0.49      0.49      1444\n",
            "\n"
          ]
        }
      ]
    },
    {
      "cell_type": "code",
      "execution_count": 9,
      "metadata": {
        "colab": {
          "base_uri": "https://localhost:8080/"
        },
        "outputId": "caefc010-c215-4fcd-8b46-404c03be5df3",
        "id": "1JsdaAlyYuxr"
      },
      "outputs": [
        {
          "output_type": "stream",
          "name": "stderr",
          "text": [
            "/usr/local/lib/python3.10/dist-packages/keras/src/layers/core/input_layer.py:26: UserWarning: Argument `input_shape` is deprecated. Use `shape` instead.\n",
            "  warnings.warn(\n"
          ]
        },
        {
          "output_type": "stream",
          "name": "stdout",
          "text": [
            "Epoch 1/35\n",
            "\u001b[1m181/181\u001b[0m \u001b[32m━━━━━━━━━━━━━━━━━━━━\u001b[0m\u001b[37m\u001b[0m \u001b[1m6s\u001b[0m 12ms/step - accuracy: 0.5256 - loss: 0.6999 - val_accuracy: 0.5291 - val_loss: 0.6897\n",
            "Epoch 2/35\n",
            "\u001b[1m181/181\u001b[0m \u001b[32m━━━━━━━━━━━━━━━━━━━━\u001b[0m\u001b[37m\u001b[0m \u001b[1m2s\u001b[0m 9ms/step - accuracy: 0.5515 - loss: 0.6840 - val_accuracy: 0.5222 - val_loss: 0.6917\n",
            "Epoch 3/35\n",
            "\u001b[1m181/181\u001b[0m \u001b[32m━━━━━━━━━━━━━━━━━━━━\u001b[0m\u001b[37m\u001b[0m \u001b[1m2s\u001b[0m 9ms/step - accuracy: 0.5788 - loss: 0.6745 - val_accuracy: 0.5069 - val_loss: 0.7028\n",
            "Epoch 4/35\n",
            "\u001b[1m181/181\u001b[0m \u001b[32m━━━━━━━━━━━━━━━━━━━━\u001b[0m\u001b[37m\u001b[0m \u001b[1m2s\u001b[0m 9ms/step - accuracy: 0.5931 - loss: 0.6651 - val_accuracy: 0.5277 - val_loss: 0.7068\n",
            "Epoch 5/35\n",
            "\u001b[1m181/181\u001b[0m \u001b[32m━━━━━━━━━━━━━━━━━━━━\u001b[0m\u001b[37m\u001b[0m \u001b[1m2s\u001b[0m 9ms/step - accuracy: 0.6208 - loss: 0.6501 - val_accuracy: 0.5208 - val_loss: 0.7131\n",
            "Epoch 6/35\n",
            "\u001b[1m181/181\u001b[0m \u001b[32m━━━━━━━━━━━━━━━━━━━━\u001b[0m\u001b[37m\u001b[0m \u001b[1m2s\u001b[0m 9ms/step - accuracy: 0.6371 - loss: 0.6363 - val_accuracy: 0.5298 - val_loss: 0.7073\n",
            "Epoch 7/35\n",
            "\u001b[1m181/181\u001b[0m \u001b[32m━━━━━━━━━━━━━━━━━━━━\u001b[0m\u001b[37m\u001b[0m \u001b[1m2s\u001b[0m 9ms/step - accuracy: 0.6551 - loss: 0.6148 - val_accuracy: 0.5028 - val_loss: 0.7199\n",
            "Epoch 8/35\n",
            "\u001b[1m181/181\u001b[0m \u001b[32m━━━━━━━━━━━━━━━━━━━━\u001b[0m\u001b[37m\u001b[0m \u001b[1m2s\u001b[0m 10ms/step - accuracy: 0.6639 - loss: 0.6098 - val_accuracy: 0.5042 - val_loss: 0.7572\n",
            "Epoch 9/35\n",
            "\u001b[1m181/181\u001b[0m \u001b[32m━━━━━━━━━━━━━━━━━━━━\u001b[0m\u001b[37m\u001b[0m \u001b[1m2s\u001b[0m 10ms/step - accuracy: 0.6977 - loss: 0.5807 - val_accuracy: 0.5014 - val_loss: 0.7724\n",
            "Epoch 10/35\n",
            "\u001b[1m181/181\u001b[0m \u001b[32m━━━━━━━━━━━━━━━━━━━━\u001b[0m\u001b[37m\u001b[0m \u001b[1m2s\u001b[0m 9ms/step - accuracy: 0.7171 - loss: 0.5544 - val_accuracy: 0.5152 - val_loss: 0.8049\n",
            "Epoch 11/35\n",
            "\u001b[1m181/181\u001b[0m \u001b[32m━━━━━━━━━━━━━━━━━━━━\u001b[0m\u001b[37m\u001b[0m \u001b[1m2s\u001b[0m 9ms/step - accuracy: 0.7107 - loss: 0.5502 - val_accuracy: 0.5235 - val_loss: 0.7826\n",
            "Epoch 12/35\n",
            "\u001b[1m181/181\u001b[0m \u001b[32m━━━━━━━━━━━━━━━━━━━━\u001b[0m\u001b[37m\u001b[0m \u001b[1m2s\u001b[0m 9ms/step - accuracy: 0.7199 - loss: 0.5246 - val_accuracy: 0.5222 - val_loss: 0.8159\n",
            "Epoch 13/35\n",
            "\u001b[1m181/181\u001b[0m \u001b[32m━━━━━━━━━━━━━━━━━━━━\u001b[0m\u001b[37m\u001b[0m \u001b[1m2s\u001b[0m 9ms/step - accuracy: 0.7519 - loss: 0.5022 - val_accuracy: 0.5097 - val_loss: 0.8564\n",
            "Epoch 14/35\n",
            "\u001b[1m181/181\u001b[0m \u001b[32m━━━━━━━━━━━━━━━━━━━━\u001b[0m\u001b[37m\u001b[0m \u001b[1m2s\u001b[0m 9ms/step - accuracy: 0.7523 - loss: 0.4954 - val_accuracy: 0.5000 - val_loss: 0.8778\n",
            "Epoch 15/35\n",
            "\u001b[1m181/181\u001b[0m \u001b[32m━━━━━━━━━━━━━━━━━━━━\u001b[0m\u001b[37m\u001b[0m \u001b[1m2s\u001b[0m 10ms/step - accuracy: 0.7745 - loss: 0.4636 - val_accuracy: 0.5215 - val_loss: 0.9099\n",
            "Epoch 16/35\n",
            "\u001b[1m181/181\u001b[0m \u001b[32m━━━━━━━━━━━━━━━━━━━━\u001b[0m\u001b[37m\u001b[0m \u001b[1m2s\u001b[0m 9ms/step - accuracy: 0.7856 - loss: 0.4388 - val_accuracy: 0.5062 - val_loss: 0.8758\n",
            "Epoch 17/35\n",
            "\u001b[1m181/181\u001b[0m \u001b[32m━━━━━━━━━━━━━━━━━━━━\u001b[0m\u001b[37m\u001b[0m \u001b[1m2s\u001b[0m 9ms/step - accuracy: 0.7862 - loss: 0.4431 - val_accuracy: 0.5062 - val_loss: 0.9920\n",
            "Epoch 18/35\n",
            "\u001b[1m181/181\u001b[0m \u001b[32m━━━━━━━━━━━━━━━━━━━━\u001b[0m\u001b[37m\u001b[0m \u001b[1m2s\u001b[0m 9ms/step - accuracy: 0.8000 - loss: 0.4084 - val_accuracy: 0.5159 - val_loss: 0.9797\n",
            "Epoch 19/35\n",
            "\u001b[1m181/181\u001b[0m \u001b[32m━━━━━━━━━━━━━━━━━━━━\u001b[0m\u001b[37m\u001b[0m \u001b[1m2s\u001b[0m 9ms/step - accuracy: 0.8372 - loss: 0.3736 - val_accuracy: 0.5152 - val_loss: 1.0696\n",
            "Epoch 20/35\n",
            "\u001b[1m181/181\u001b[0m \u001b[32m━━━━━━━━━━━━━━━━━━━━\u001b[0m\u001b[37m\u001b[0m \u001b[1m2s\u001b[0m 9ms/step - accuracy: 0.8223 - loss: 0.3751 - val_accuracy: 0.5007 - val_loss: 1.0749\n",
            "Epoch 21/35\n",
            "\u001b[1m181/181\u001b[0m \u001b[32m━━━━━━━━━━━━━━━━━━━━\u001b[0m\u001b[37m\u001b[0m \u001b[1m2s\u001b[0m 9ms/step - accuracy: 0.8232 - loss: 0.3682 - val_accuracy: 0.5305 - val_loss: 1.0506\n",
            "Epoch 22/35\n",
            "\u001b[1m181/181\u001b[0m \u001b[32m━━━━━━━━━━━━━━━━━━━━\u001b[0m\u001b[37m\u001b[0m \u001b[1m2s\u001b[0m 9ms/step - accuracy: 0.8449 - loss: 0.3425 - val_accuracy: 0.5104 - val_loss: 1.1300\n",
            "Epoch 23/35\n",
            "\u001b[1m181/181\u001b[0m \u001b[32m━━━━━━━━━━━━━━━━━━━━\u001b[0m\u001b[37m\u001b[0m \u001b[1m2s\u001b[0m 10ms/step - accuracy: 0.8487 - loss: 0.3487 - val_accuracy: 0.5159 - val_loss: 1.2083\n",
            "Epoch 24/35\n",
            "\u001b[1m181/181\u001b[0m \u001b[32m━━━━━━━━━━━━━━━━━━━━\u001b[0m\u001b[37m\u001b[0m \u001b[1m2s\u001b[0m 9ms/step - accuracy: 0.8661 - loss: 0.3035 - val_accuracy: 0.5173 - val_loss: 1.2145\n",
            "Epoch 25/35\n",
            "\u001b[1m181/181\u001b[0m \u001b[32m━━━━━━━━━━━━━━━━━━━━\u001b[0m\u001b[37m\u001b[0m \u001b[1m2s\u001b[0m 9ms/step - accuracy: 0.8729 - loss: 0.2878 - val_accuracy: 0.5166 - val_loss: 1.3178\n",
            "Epoch 26/35\n",
            "\u001b[1m181/181\u001b[0m \u001b[32m━━━━━━━━━━━━━━━━━━━━\u001b[0m\u001b[37m\u001b[0m \u001b[1m2s\u001b[0m 9ms/step - accuracy: 0.8704 - loss: 0.2999 - val_accuracy: 0.5277 - val_loss: 1.2039\n",
            "Epoch 27/35\n",
            "\u001b[1m181/181\u001b[0m \u001b[32m━━━━━━━━━━━━━━━━━━━━\u001b[0m\u001b[37m\u001b[0m \u001b[1m2s\u001b[0m 9ms/step - accuracy: 0.8773 - loss: 0.2875 - val_accuracy: 0.5298 - val_loss: 1.3842\n",
            "Epoch 28/35\n",
            "\u001b[1m181/181\u001b[0m \u001b[32m━━━━━━━━━━━━━━━━━━━━\u001b[0m\u001b[37m\u001b[0m \u001b[1m2s\u001b[0m 9ms/step - accuracy: 0.8818 - loss: 0.2654 - val_accuracy: 0.5270 - val_loss: 1.2691\n",
            "Epoch 29/35\n",
            "\u001b[1m181/181\u001b[0m \u001b[32m━━━━━━━━━━━━━━━━━━━━\u001b[0m\u001b[37m\u001b[0m \u001b[1m2s\u001b[0m 9ms/step - accuracy: 0.8808 - loss: 0.2770 - val_accuracy: 0.5180 - val_loss: 1.3911\n",
            "Epoch 30/35\n",
            "\u001b[1m181/181\u001b[0m \u001b[32m━━━━━━━━━━━━━━━━━━━━\u001b[0m\u001b[37m\u001b[0m \u001b[1m2s\u001b[0m 9ms/step - accuracy: 0.8956 - loss: 0.2563 - val_accuracy: 0.5277 - val_loss: 1.4010\n",
            "Epoch 31/35\n",
            "\u001b[1m181/181\u001b[0m \u001b[32m━━━━━━━━━━━━━━━━━━━━\u001b[0m\u001b[37m\u001b[0m \u001b[1m2s\u001b[0m 9ms/step - accuracy: 0.8959 - loss: 0.2494 - val_accuracy: 0.5069 - val_loss: 1.3948\n",
            "Epoch 32/35\n",
            "\u001b[1m181/181\u001b[0m \u001b[32m━━━━━━━━━━━━━━━━━━━━\u001b[0m\u001b[37m\u001b[0m \u001b[1m2s\u001b[0m 9ms/step - accuracy: 0.9060 - loss: 0.2171 - val_accuracy: 0.5166 - val_loss: 1.5670\n",
            "Epoch 33/35\n",
            "\u001b[1m181/181\u001b[0m \u001b[32m━━━━━━━━━━━━━━━━━━━━\u001b[0m\u001b[37m\u001b[0m \u001b[1m2s\u001b[0m 9ms/step - accuracy: 0.9106 - loss: 0.2096 - val_accuracy: 0.5256 - val_loss: 1.6062\n",
            "Epoch 34/35\n",
            "\u001b[1m181/181\u001b[0m \u001b[32m━━━━━━━━━━━━━━━━━━━━\u001b[0m\u001b[37m\u001b[0m \u001b[1m2s\u001b[0m 9ms/step - accuracy: 0.9213 - loss: 0.1982 - val_accuracy: 0.5388 - val_loss: 1.5691\n",
            "Epoch 35/35\n",
            "\u001b[1m181/181\u001b[0m \u001b[32m━━━━━━━━━━━━━━━━━━━━\u001b[0m\u001b[37m\u001b[0m \u001b[1m2s\u001b[0m 9ms/step - accuracy: 0.9036 - loss: 0.2221 - val_accuracy: 0.5325 - val_loss: 1.4593\n",
            "Test Loss: 1.4593404531478882\n",
            "Test Accuracy: 0.5325484871864319\n",
            "Current processing time: 2024-11-22 09:00:14\n"
          ]
        }
      ],
      "source": [
        "from keras.models import Sequential\n",
        "from keras.layers import LSTM, Dense, Dropout, InputLayer\n",
        "from keras.callbacks import EarlyStopping\n",
        "from sklearn.preprocessing import LabelEncoder\n",
        "from sklearn.model_selection import train_test_split\n",
        "\n",
        "# 假设 X_train, X_test, y_train, y_test 已经定义并准备好了\n",
        "# 构建LSTM模型\n",
        "model = Sequential()\n",
        "model.add(InputLayer(input_shape=(X_train.shape[1], X_train.shape[2])))\n",
        "model.add(LSTM(units=50, return_sequences=True))\n",
        "model.add(Dropout(0.3))  # 添加Dropout层\n",
        "model.add(LSTM(units=50))\n",
        "model.add(Dropout(0.3))  # 添加Dropout层\n",
        "model.add(Dense(1, activation='sigmoid'))  # 二分类问题\n",
        "\n",
        "# 编译模型\n",
        "model.compile(optimizer='adam', loss='binary_crossentropy', metrics=['accuracy'])\n",
        "\n",
        "# 早停法\n",
        "# early_stopping = EarlyStopping(monitor='val_loss', patience=10, verbose=1, restore_best_weights=True)\n",
        "\n",
        "# 训练模型\n",
        "model.fit(X_train, y_train_encoded, epochs=35, batch_size=32, validation_data=(X_test, y_test_encoded))\n",
        "\n",
        "# 评估模型\n",
        "loss, accuracy = model.evaluate(X_test, y_test_encoded, verbose=0)\n",
        "print(f\"Test Loss: {loss}\")\n",
        "print(f\"Test Accuracy: {accuracy}\")\n",
        "\n",
        "# 打印当前处理的时间\n",
        "current_time = datetime.now().strftime(\"%Y-%m-%d %H:%M:%S\")\n",
        "print(f\"Current processing time: {current_time}\")"
      ]
    },
    {
      "cell_type": "code",
      "source": [
        "# 预测测试集\n",
        "predictions = model.predict(X_test)\n",
        "\n",
        "# 将概率转换为类别\n",
        "predicted_classes = (predictions > 0.5).astype(\"int32\")\n",
        "\n",
        "# 打印预测结果\n",
        "print(predicted_classes)\n",
        "\n",
        "# 打印当前处理的时间\n",
        "current_time = datetime.now().strftime(\"%Y-%m-%d %H:%M:%S\")\n",
        "print(f\"Current processing time: {current_time}\")"
      ],
      "metadata": {
        "id": "2db_B0Cbkqe_",
        "colab": {
          "base_uri": "https://localhost:8080/"
        },
        "outputId": "15a0e729-3529-4e97-ece6-5d30c7cb5e53"
      },
      "execution_count": 9,
      "outputs": [
        {
          "output_type": "stream",
          "name": "stdout",
          "text": [
            "\u001b[1m46/46\u001b[0m \u001b[32m━━━━━━━━━━━━━━━━━━━━\u001b[0m\u001b[37m\u001b[0m \u001b[1m0s\u001b[0m 7ms/step\n",
            "[[1]\n",
            " [1]\n",
            " [1]\n",
            " ...\n",
            " [1]\n",
            " [1]\n",
            " [1]]\n",
            "Current processing time: 2024-11-21 21:08:10\n"
          ]
        }
      ]
    },
    {
      "cell_type": "code",
      "source": [
        "# 计算精确度、召回率和F1分数\n",
        "from sklearn.metrics import precision_score, recall_score, f1_score, confusion_matrix\n",
        "\n",
        "precision = precision_score(y_test_encoded, predicted_classes)\n",
        "recall = recall_score(y_test_encoded, predicted_classes)\n",
        "f1 = f1_score(y_test_encoded, predicted_classes)\n",
        "\n",
        "print(f\"Precision: {precision}\")\n",
        "print(f\"Recall: {recall}\")\n",
        "print(f\"F1 Score: {f1}\")\n",
        "\n",
        "# 计算混淆矩阵\n",
        "cm = confusion_matrix(y_test_encoded, predicted_classes)\n",
        "print(\"Confusion Matrix:\")\n",
        "print(cm)\n",
        "\n",
        "# 打印当前处理的时间\n",
        "current_time = datetime.now().strftime(\"%Y-%m-%d %H:%M:%S\")\n",
        "print(f\"Current processing time: {current_time}\")"
      ],
      "metadata": {
        "id": "7scZd9fxkrbt",
        "colab": {
          "base_uri": "https://localhost:8080/"
        },
        "outputId": "eb0d986c-408d-4ad1-d627-59da6fa185a0"
      },
      "execution_count": 10,
      "outputs": [
        {
          "output_type": "stream",
          "name": "stdout",
          "text": [
            "Precision: 0.5042016806722689\n",
            "Recall: 0.5172413793103449\n",
            "F1 Score: 0.5106382978723404\n",
            "Confusion Matrix:\n",
            "[[394 354]\n",
            " [336 360]]\n",
            "Current processing time: 2024-11-21 21:08:10\n"
          ]
        }
      ]
    },
    {
      "cell_type": "code",
      "source": [],
      "metadata": {
        "id": "RLrwu2iFkuZE"
      },
      "execution_count": 10,
      "outputs": []
    }
  ]
}