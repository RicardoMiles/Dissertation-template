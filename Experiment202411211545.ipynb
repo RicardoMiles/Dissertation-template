{
  "nbformat": 4,
  "nbformat_minor": 0,
  "metadata": {
    "colab": {
      "provenance": [],
      "machine_shape": "hm",
      "gpuType": "V28",
      "history_visible": true,
      "authorship_tag": "ABX9TyNOXjpjK71PqWMew6+NtKlK",
      "include_colab_link": true
    },
    "kernelspec": {
      "name": "python3",
      "display_name": "Python 3"
    },
    "language_info": {
      "name": "python"
    },
    "accelerator": "TPU"
  },
  "cells": [
    {
      "cell_type": "markdown",
      "metadata": {
        "id": "view-in-github",
        "colab_type": "text"
      },
      "source": [
        "<a href=\"https://colab.research.google.com/github/RicardoMiles/Dissertation-template/blob/main/Experiment202411211545.ipynb\" target=\"_parent\"><img src=\"https://colab.research.google.com/assets/colab-badge.svg\" alt=\"Open In Colab\"/></a>"
      ]
    },
    {
      "cell_type": "code",
      "execution_count": 17,
      "metadata": {
        "colab": {
          "base_uri": "https://localhost:8080/"
        },
        "id": "WIH7sVfQPiXH",
        "outputId": "6892a992-8ae9-4a9f-a0c4-5a75b64d4ad8"
      },
      "outputs": [
        {
          "output_type": "stream",
          "name": "stdout",
          "text": [
            "Drive already mounted at /content/drive; to attempt to forcibly remount, call drive.mount(\"/content/drive\", force_remount=True).\n",
            "/content/drive/My Drive/Colab Notebooks/SummerProject/src\n"
          ]
        }
      ],
      "source": [
        "from google.colab import drive\n",
        "drive.mount('/content/drive')\n",
        "!pwd"
      ]
    },
    {
      "cell_type": "code",
      "source": [
        "import pandas as pd\n",
        "import numpy as np\n",
        "import os\n",
        "from sklearn.preprocessing import LabelEncoder\n",
        "from sklearn.model_selection import train_test_split\n",
        "\n",
        "# 定义包含CSV文件的文件夹路径\n",
        "current_dir = os.getcwd()\n",
        "root_dir = os.path.dirname(current_dir)\n",
        "data_dir = os.path.join(root_dir, 'Data')\n",
        "left_data = os.path.join(data_dir,'left')\n",
        "right_data = os.path.join(data_dir,'right')\n",
        "\n",
        "folder_path = left_data\n",
        "\n",
        "# 获取left文件夹中所有CSV文件的列表\n",
        "csv_files_left = [os.path.join(left_data, file) for file in os.listdir(left_data) if file.endswith('.csv')]\n",
        "# 获取right文件夹中所有CSV文件的列表\n",
        "csv_files_right = [os.path.join(right_data, file) for file in os.listdir(right_data) if file.endswith('.csv')]\n",
        "\n",
        "print(f\"Number of left files: {len(csv_files_left)}\")\n",
        "print(f\"Number of right files: {len(csv_files_right)}\")"
      ],
      "metadata": {
        "id": "Em_TnpEVg30c",
        "colab": {
          "base_uri": "https://localhost:8080/"
        },
        "outputId": "db9cd93d-edfd-4e21-9e28-441ae42ef4fd"
      },
      "execution_count": 18,
      "outputs": [
        {
          "output_type": "stream",
          "name": "stdout",
          "text": [
            "Number of left files: 26\n",
            "Number of right files: 26\n"
          ]
        }
      ]
    },
    {
      "cell_type": "code",
      "source": [
        "from scipy import stats\n",
        "# 定义特征提取函数\n",
        "def extract_features(group):\n",
        "    features = []\n",
        "    # 遍历第三列到最后一列\n",
        "    for col in group.columns[2:]:  # 从第三列开始提取特征\n",
        "        data = group[col].values\n",
        "        features.append(data.mean())  # 均值\n",
        "        features.append(data.std())   # 标准差\n",
        "        features.append(stats.skew(data))  # 偏度\n",
        "        features.append(stats.kurtosis(data))  # 峰度\n",
        "    return features"
      ],
      "metadata": {
        "id": "aJojEk5bh474"
      },
      "execution_count": 19,
      "outputs": []
    },
    {
      "cell_type": "code",
      "source": [
        "import pandas as pd\n",
        "import numpy as np\n",
        "from datetime import datetime  # 导入datetime模块来获取当前时间\n",
        "\n",
        "# 初始化CSV文件计数器\n",
        "csv_files_count = 0\n",
        "all_features = []  # 确保这个列表在代码的其他地方被初始化\n",
        "all_labels = []  # 确保这个列表在代码的其他地方被初始化\n",
        "\n",
        "# 处理left文件夹中的CSV文件\n",
        "for file_name in csv_files_left:\n",
        "    df = pd.read_csv(file_name)\n",
        "    csv_files_count += 1  # 增加文件计数\n",
        "    # 将数据按照epoch分组\n",
        "    grouped = df.groupby(df.columns[1])  # 第二列是epoch分组的列\n",
        "    for name, group in grouped:\n",
        "        # 过滤掉time小于0的数据\n",
        "        group = group[group[df.columns[0]] >= 0]  # 假设time列是第一列\n",
        "        if len(group) == 81:  # 确保过滤后有81条数据\n",
        "            # 提取特征\n",
        "            features = group.iloc[:, 2:].values  # 第三列及以后是EEG通道信号\n",
        "            # features = extract_features(group)\n",
        "            all_features.append(features)\n",
        "            # 获取标签\n",
        "            all_labels.append('left')\n",
        "\n",
        "# 处理right文件夹中的CSV文件\n",
        "for file_name in csv_files_right:\n",
        "    df_right = pd.read_csv(file_name)\n",
        "    csv_files_count += 1  # 增加文件计数\n",
        "    # 将数据按照epoch分组\n",
        "    grouped_right = df_right.groupby(df_right.columns[1])  # 第二列是epoch分组的列\n",
        "    for name, group in grouped_right:\n",
        "        # 过滤掉time小于0的数据\n",
        "        group = group[group[df_right.columns[0]] >= 0]  # 假设time列是第一列\n",
        "        if len(group) == 81:  # 确保过滤后有81条数据\n",
        "            # 提取特征\n",
        "            features = group.iloc[:, 2:].values  # 第三列及以后是EEG通道信号\n",
        "            # features = extract_features(group)\n",
        "            all_features.append(features)\n",
        "            # 获取标签\n",
        "            all_labels.append('right')\n",
        "\n",
        "# 将特征和标签转换为NumPy数组\n",
        "features_array = np.array(all_features)\n",
        "labels_array = np.array(all_labels)\n",
        "\n",
        "# 打印特征数组的形状\n",
        "print(f\"Features array shape: {features_array.shape}\")\n",
        "\n",
        "# 打印标签数组的形状\n",
        "print(f\"Labels array shape: {labels_array.shape}\")\n",
        "\n",
        "# 打印当前处理的时间\n",
        "current_time = datetime.now().strftime(\"%Y-%m-%d %H:%M:%S\")\n",
        "print(f\"Current processing time: {current_time}\")\n",
        "\n",
        "# 打印处理的CSV文件数量\n",
        "print(f\"Total CSV files processed: {csv_files_count}\")"
      ],
      "metadata": {
        "colab": {
          "base_uri": "https://localhost:8080/"
        },
        "id": "bJmdkssfh9Ha",
        "outputId": "368cc4c2-4a46-428b-ca1f-645ba9530192"
      },
      "execution_count": 21,
      "outputs": [
        {
          "output_type": "stream",
          "name": "stdout",
          "text": [
            "Features array shape: (7220, 81, 101)\n",
            "Labels array shape: (7220,)\n",
            "Current processing time: 2024-11-21 15:33:48\n",
            "Total CSV files processed: 52\n"
          ]
        }
      ]
    },
    {
      "cell_type": "code",
      "source": [
        "# 划分数据集\n",
        "X_train, X_test, y_train, y_test = train_test_split(features_array, labels_array, test_size=0.2, random_state=42)\n",
        "\n",
        "# 打印当前处理的时间\n",
        "current_time = datetime.now().strftime(\"%Y-%m-%d %H:%M:%S\")\n",
        "print(f\"Current processing time: {current_time}\")"
      ],
      "metadata": {
        "id": "gWYVXC1BiAfT",
        "colab": {
          "base_uri": "https://localhost:8080/"
        },
        "outputId": "b2272bb5-817c-41cf-d9b2-5f10cda35da8"
      },
      "execution_count": 22,
      "outputs": [
        {
          "output_type": "stream",
          "name": "stdout",
          "text": [
            "Current processing time: 2024-11-21 15:33:54\n"
          ]
        }
      ]
    },
    {
      "cell_type": "code",
      "source": [
        "from sklearn.model_selection import train_test_split\n",
        "from sklearn.preprocessing import LabelEncoder\n",
        "\n",
        "# 初始化标签编码器\n",
        "label_encoder = LabelEncoder()\n",
        "\n",
        "# 将训练集和测试集的标签转换为数值\n",
        "y_train_encoded = label_encoder.fit_transform(y_train)\n",
        "y_test_encoded = label_encoder.transform(y_test)\n",
        "\n",
        "# 确保转换后的标签是正确的数据类型\n",
        "y_train_encoded = y_train_encoded.astype('int32')\n",
        "y_test_encoded = y_test_encoded.astype('int32')"
      ],
      "metadata": {
        "id": "xU68yKwRiSCo"
      },
      "execution_count": 23,
      "outputs": []
    },
    {
      "cell_type": "code",
      "source": [
        "from keras.models import Sequential\n",
        "from keras.layers import LSTM, Dense, Dropout, InputLayer\n",
        "from keras.callbacks import EarlyStopping\n",
        "from sklearn.preprocessing import LabelEncoder\n",
        "from sklearn.model_selection import train_test_split\n",
        "\n",
        "# 假设 X_train, X_test, y_train, y_test 已经定义并准备好了\n",
        "# 构建LSTM模型\n",
        "model = Sequential()\n",
        "model.add(InputLayer(input_shape=(X_train.shape[1], X_train.shape[2])))\n",
        "model.add(LSTM(units=25, return_sequences=True))\n",
        "model.add(Dropout(0.4))  # 添加Dropout层\n",
        "model.add(LSTM(units=25))\n",
        "model.add(Dropout(0.4))  # 添加Dropout层\n",
        "model.add(Dense(1, activation='sigmoid'))  # 二分类问题\n",
        "\n",
        "# 编译模型\n",
        "model.compile(optimizer='adam', loss='binary_crossentropy', metrics=['accuracy'])\n",
        "\n",
        "# 早停法\n",
        "# early_stopping = EarlyStopping(monitor='val_loss', patience=10, verbose=1, restore_best_weights=True)\n",
        "\n",
        "# 训练模型\n",
        "model.fit(X_train, y_train_encoded, epochs=50, batch_size=128, validation_data=(X_test, y_test_encoded))\n",
        "\n",
        "# 评估模型\n",
        "loss, accuracy = model.evaluate(X_test, y_test_encoded, verbose=0)\n",
        "print(f\"Test Loss: {loss}\")\n",
        "print(f\"Test Accuracy: {accuracy}\")\n",
        "\n",
        "# 打印当前处理的时间\n",
        "current_time = datetime.now().strftime(\"%Y-%m-%d %H:%M:%S\")\n",
        "print(f\"Current processing time: {current_time}\")"
      ],
      "metadata": {
        "id": "o9GxyUl5iTuE",
        "colab": {
          "base_uri": "https://localhost:8080/"
        },
        "outputId": "8be9852e-50be-4f0b-faa9-1bddc41dd4df"
      },
      "execution_count": 27,
      "outputs": [
        {
          "output_type": "stream",
          "name": "stdout",
          "text": [
            "Epoch 1/50\n",
            "46/46 [==============================] - 8s 97ms/step - loss: 0.7027 - accuracy: 0.5196 - val_loss: 0.6911 - val_accuracy: 0.5229\n",
            "Epoch 2/50\n",
            "46/46 [==============================] - 4s 82ms/step - loss: 0.6936 - accuracy: 0.5289 - val_loss: 0.6924 - val_accuracy: 0.5180\n",
            "Epoch 3/50\n",
            "46/46 [==============================] - 4s 77ms/step - loss: 0.6874 - accuracy: 0.5440 - val_loss: 0.6938 - val_accuracy: 0.5083\n",
            "Epoch 4/50\n",
            "46/46 [==============================] - 4s 77ms/step - loss: 0.6853 - accuracy: 0.5530 - val_loss: 0.6965 - val_accuracy: 0.5125\n",
            "Epoch 5/50\n",
            "46/46 [==============================] - 4s 79ms/step - loss: 0.6791 - accuracy: 0.5715 - val_loss: 0.6963 - val_accuracy: 0.5249\n",
            "Epoch 6/50\n",
            "46/46 [==============================] - 4s 78ms/step - loss: 0.6726 - accuracy: 0.5907 - val_loss: 0.7018 - val_accuracy: 0.5222\n",
            "Epoch 7/50\n",
            "46/46 [==============================] - 4s 77ms/step - loss: 0.6665 - accuracy: 0.6020 - val_loss: 0.7103 - val_accuracy: 0.5242\n",
            "Epoch 8/50\n",
            "46/46 [==============================] - 4s 78ms/step - loss: 0.6605 - accuracy: 0.6066 - val_loss: 0.7217 - val_accuracy: 0.5007\n",
            "Epoch 9/50\n",
            "46/46 [==============================] - 4s 84ms/step - loss: 0.6543 - accuracy: 0.6167 - val_loss: 0.7148 - val_accuracy: 0.5083\n",
            "Epoch 10/50\n",
            "46/46 [==============================] - 4s 79ms/step - loss: 0.6446 - accuracy: 0.6231 - val_loss: 0.7373 - val_accuracy: 0.4861\n",
            "Epoch 11/50\n",
            "46/46 [==============================] - 4s 78ms/step - loss: 0.6325 - accuracy: 0.6494 - val_loss: 0.7297 - val_accuracy: 0.5180\n",
            "Epoch 12/50\n",
            "46/46 [==============================] - 4s 81ms/step - loss: 0.6193 - accuracy: 0.6534 - val_loss: 0.7674 - val_accuracy: 0.4958\n",
            "Epoch 13/50\n",
            "46/46 [==============================] - 4s 79ms/step - loss: 0.6163 - accuracy: 0.6666 - val_loss: 0.7579 - val_accuracy: 0.5090\n",
            "Epoch 14/50\n",
            "46/46 [==============================] - 4s 78ms/step - loss: 0.6000 - accuracy: 0.6806 - val_loss: 0.7742 - val_accuracy: 0.5173\n",
            "Epoch 15/50\n",
            "46/46 [==============================] - 4s 77ms/step - loss: 0.5930 - accuracy: 0.6872 - val_loss: 0.7964 - val_accuracy: 0.4979\n",
            "Epoch 16/50\n",
            "46/46 [==============================] - 4s 80ms/step - loss: 0.5776 - accuracy: 0.7010 - val_loss: 0.8021 - val_accuracy: 0.5035\n",
            "Epoch 17/50\n",
            "46/46 [==============================] - 4s 79ms/step - loss: 0.5733 - accuracy: 0.7048 - val_loss: 0.8119 - val_accuracy: 0.5145\n",
            "Epoch 18/50\n",
            "46/46 [==============================] - 4s 82ms/step - loss: 0.5584 - accuracy: 0.7161 - val_loss: 0.8185 - val_accuracy: 0.5028\n",
            "Epoch 19/50\n",
            "46/46 [==============================] - 4s 83ms/step - loss: 0.5493 - accuracy: 0.7218 - val_loss: 0.8292 - val_accuracy: 0.5062\n",
            "Epoch 20/50\n",
            "46/46 [==============================] - 4s 78ms/step - loss: 0.5295 - accuracy: 0.7424 - val_loss: 0.8575 - val_accuracy: 0.4958\n",
            "Epoch 21/50\n",
            "46/46 [==============================] - 3s 76ms/step - loss: 0.5308 - accuracy: 0.7407 - val_loss: 0.9250 - val_accuracy: 0.4993\n",
            "Epoch 22/50\n",
            "46/46 [==============================] - 4s 76ms/step - loss: 0.5120 - accuracy: 0.7493 - val_loss: 0.9005 - val_accuracy: 0.5035\n",
            "Epoch 23/50\n",
            "46/46 [==============================] - 4s 81ms/step - loss: 0.5010 - accuracy: 0.7654 - val_loss: 0.9114 - val_accuracy: 0.5055\n",
            "Epoch 24/50\n",
            "46/46 [==============================] - 4s 77ms/step - loss: 0.4918 - accuracy: 0.7694 - val_loss: 0.9154 - val_accuracy: 0.5118\n",
            "Epoch 25/50\n",
            "46/46 [==============================] - 3s 76ms/step - loss: 0.4905 - accuracy: 0.7720 - val_loss: 0.9281 - val_accuracy: 0.5173\n",
            "Epoch 26/50\n",
            "46/46 [==============================] - 4s 82ms/step - loss: 0.4735 - accuracy: 0.7770 - val_loss: 0.9317 - val_accuracy: 0.5152\n",
            "Epoch 27/50\n",
            "46/46 [==============================] - 4s 77ms/step - loss: 0.4709 - accuracy: 0.7824 - val_loss: 0.9586 - val_accuracy: 0.4986\n",
            "Epoch 28/50\n",
            "46/46 [==============================] - 4s 78ms/step - loss: 0.4715 - accuracy: 0.7841 - val_loss: 1.0148 - val_accuracy: 0.5090\n",
            "Epoch 29/50\n",
            "46/46 [==============================] - 4s 80ms/step - loss: 0.4791 - accuracy: 0.7723 - val_loss: 0.9831 - val_accuracy: 0.5097\n",
            "Epoch 30/50\n",
            "46/46 [==============================] - 4s 81ms/step - loss: 0.4721 - accuracy: 0.7834 - val_loss: 0.9692 - val_accuracy: 0.5069\n",
            "Epoch 31/50\n",
            "46/46 [==============================] - 4s 77ms/step - loss: 0.4484 - accuracy: 0.7986 - val_loss: 1.0516 - val_accuracy: 0.4986\n",
            "Epoch 32/50\n",
            "46/46 [==============================] - 4s 77ms/step - loss: 0.4324 - accuracy: 0.8063 - val_loss: 1.0492 - val_accuracy: 0.5048\n",
            "Epoch 33/50\n",
            "46/46 [==============================] - 4s 83ms/step - loss: 0.4245 - accuracy: 0.8078 - val_loss: 1.0602 - val_accuracy: 0.5062\n",
            "Epoch 34/50\n",
            "46/46 [==============================] - 3s 76ms/step - loss: 0.3988 - accuracy: 0.8286 - val_loss: 1.0984 - val_accuracy: 0.5007\n",
            "Epoch 35/50\n",
            "46/46 [==============================] - 4s 78ms/step - loss: 0.3993 - accuracy: 0.8224 - val_loss: 1.0937 - val_accuracy: 0.5021\n",
            "Epoch 36/50\n",
            "46/46 [==============================] - 4s 82ms/step - loss: 0.3779 - accuracy: 0.8338 - val_loss: 1.0992 - val_accuracy: 0.4965\n",
            "Epoch 37/50\n",
            "46/46 [==============================] - 4s 82ms/step - loss: 0.3759 - accuracy: 0.8364 - val_loss: 1.1402 - val_accuracy: 0.5007\n",
            "Epoch 38/50\n",
            "46/46 [==============================] - 4s 76ms/step - loss: 0.3863 - accuracy: 0.8314 - val_loss: 1.1157 - val_accuracy: 0.5076\n",
            "Epoch 39/50\n",
            "46/46 [==============================] - 4s 77ms/step - loss: 0.3626 - accuracy: 0.8431 - val_loss: 1.1528 - val_accuracy: 0.5042\n",
            "Epoch 40/50\n",
            "46/46 [==============================] - 4s 81ms/step - loss: 0.3652 - accuracy: 0.8433 - val_loss: 1.1859 - val_accuracy: 0.5014\n",
            "Epoch 41/50\n",
            "46/46 [==============================] - 4s 77ms/step - loss: 0.3769 - accuracy: 0.8309 - val_loss: 1.1282 - val_accuracy: 0.5097\n",
            "Epoch 42/50\n",
            "46/46 [==============================] - 4s 77ms/step - loss: 0.3519 - accuracy: 0.8508 - val_loss: 1.2667 - val_accuracy: 0.4986\n",
            "Epoch 43/50\n",
            "46/46 [==============================] - 4s 79ms/step - loss: 0.3378 - accuracy: 0.8532 - val_loss: 1.2396 - val_accuracy: 0.5055\n",
            "Epoch 44/50\n",
            "46/46 [==============================] - 4s 78ms/step - loss: 0.3380 - accuracy: 0.8515 - val_loss: 1.1900 - val_accuracy: 0.5111\n",
            "Epoch 45/50\n",
            "46/46 [==============================] - 4s 81ms/step - loss: 0.3434 - accuracy: 0.8592 - val_loss: 1.2857 - val_accuracy: 0.5090\n",
            "Epoch 46/50\n",
            "46/46 [==============================] - 4s 81ms/step - loss: 0.3187 - accuracy: 0.8679 - val_loss: 1.2759 - val_accuracy: 0.5069\n",
            "Epoch 47/50\n",
            "46/46 [==============================] - 4s 81ms/step - loss: 0.3208 - accuracy: 0.8672 - val_loss: 1.2665 - val_accuracy: 0.5042\n",
            "Epoch 48/50\n",
            "46/46 [==============================] - 4s 77ms/step - loss: 0.3388 - accuracy: 0.8568 - val_loss: 1.2665 - val_accuracy: 0.5048\n",
            "Epoch 49/50\n",
            "46/46 [==============================] - 4s 77ms/step - loss: 0.3105 - accuracy: 0.8702 - val_loss: 1.3261 - val_accuracy: 0.5152\n",
            "Epoch 50/50\n",
            "46/46 [==============================] - 4s 81ms/step - loss: 0.3462 - accuracy: 0.8530 - val_loss: 1.3545 - val_accuracy: 0.4896\n",
            "Test Loss: 1.3544998168945312\n",
            "Test Accuracy: 0.4896121919155121\n",
            "Current processing time: 2024-11-21 15:44:46\n"
          ]
        }
      ]
    },
    {
      "cell_type": "code",
      "source": [
        "# 预测测试集\n",
        "predictions = model.predict(X_test)\n",
        "\n",
        "# 将概率转换为类别\n",
        "predicted_classes = (predictions > 0.5).astype(\"int32\")\n",
        "\n",
        "# 打印预测结果\n",
        "print(predicted_classes)\n",
        "\n",
        "# 打印当前处理的时间\n",
        "current_time = datetime.now().strftime(\"%Y-%m-%d %H:%M:%S\")\n",
        "print(f\"Current processing time: {current_time}\")"
      ],
      "metadata": {
        "id": "2db_B0Cbkqe_",
        "colab": {
          "base_uri": "https://localhost:8080/"
        },
        "outputId": "2c235399-e413-4636-c355-f45701884d70"
      },
      "execution_count": 30,
      "outputs": [
        {
          "output_type": "stream",
          "name": "stdout",
          "text": [
            "46/46 [==============================] - 1s 13ms/step\n",
            "[[1]\n",
            " [1]\n",
            " [1]\n",
            " ...\n",
            " [0]\n",
            " [0]\n",
            " [1]]\n",
            "Current processing time: 2024-11-21 15:45:02\n"
          ]
        }
      ]
    },
    {
      "cell_type": "code",
      "source": [
        "# 计算精确度、召回率和F1分数\n",
        "from sklearn.metrics import precision_score, recall_score, f1_score, confusion_matrix\n",
        "\n",
        "precision = precision_score(y_test_encoded, predicted_classes)\n",
        "recall = recall_score(y_test_encoded, predicted_classes)\n",
        "f1 = f1_score(y_test_encoded, predicted_classes)\n",
        "\n",
        "print(f\"Precision: {precision}\")\n",
        "print(f\"Recall: {recall}\")\n",
        "print(f\"F1 Score: {f1}\")\n",
        "\n",
        "# 计算混淆矩阵\n",
        "cm = confusion_matrix(y_test_encoded, predicted_classes)\n",
        "print(\"Confusion Matrix:\")\n",
        "print(cm)\n",
        "\n",
        "# 打印当前处理的时间\n",
        "current_time = datetime.now().strftime(\"%Y-%m-%d %H:%M:%S\")\n",
        "print(f\"Current processing time: {current_time}\")"
      ],
      "metadata": {
        "id": "7scZd9fxkrbt",
        "colab": {
          "base_uri": "https://localhost:8080/"
        },
        "outputId": "d32af6f4-7cc3-4d19-98df-c62cce68e882"
      },
      "execution_count": 31,
      "outputs": [
        {
          "output_type": "stream",
          "name": "stdout",
          "text": [
            "Precision: 0.47341115434500647\n",
            "Recall: 0.5244252873563219\n",
            "F1 Score: 0.49761417859577367\n",
            "Confusion Matrix:\n",
            "[[342 406]\n",
            " [331 365]]\n",
            "Current processing time: 2024-11-21 15:45:04\n"
          ]
        }
      ]
    },
    {
      "cell_type": "code",
      "source": [],
      "metadata": {
        "id": "RLrwu2iFkuZE"
      },
      "execution_count": null,
      "outputs": []
    }
  ]
}